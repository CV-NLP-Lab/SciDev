{
 "cells": [
  {
   "cell_type": "code",
   "execution_count": 10,
   "id": "collected-password",
   "metadata": {},
   "outputs": [],
   "source": [
    "import torch\n",
    "import numpy as np\n",
    "import pandas as pd\n",
    "from tqdm import trange\n",
    "import matplotlib.pyplot as plt"
   ]
  },
  {
   "cell_type": "code",
   "execution_count": 11,
   "id": "equivalent-mongolia",
   "metadata": {},
   "outputs": [],
   "source": [
    "def get_xor_data():\n",
    "    x = torch.tensor([[1, 1], [0, 0], [0, 1], [1, 0]], dtype=torch.float32)\n",
    "    y = torch.tensor([1, 1, 0, 0], dtype=torch.float32)\n",
    "    return x, y\n",
    "\n",
    "\n",
    "def get_2_layer_model():\n",
    "    return torch.nn.Sequential(\n",
    "        torch.nn.Linear(2, 2), torch.nn.Sigmoid(),\n",
    "        torch.nn.Linear(2, 1), torch.nn.Sigmoid(),\n",
    "        torch.nn.Flatten(0, 1)\n",
    "    )"
   ]
  },
  {
   "cell_type": "code",
   "execution_count": 12,
   "id": "received-bidding",
   "metadata": {},
   "outputs": [],
   "source": [
    "x_train, y_train = get_xor_data()\n",
    "\n",
    "n_epochs = 1500\n",
    "batch_sizes = [1, 2, 3, 4]\n",
    "\n",
    "loss_history = pd.DataFrame(\n",
    "    index=range(n_epochs), dtype=float,\n",
    "    columns=batch_sizes\n",
    ")"
   ]
  },
  {
   "cell_type": "code",
   "execution_count": 5,
   "id": "handy-grant",
   "metadata": {},
   "outputs": [
    {
     "name": "stderr",
     "output_type": "stream",
     "text": [
      "  3%|█                                      | 42/1500 [00:00<00:03, 408.86it/s]"
     ]
    },
    {
     "name": "stdout",
     "output_type": "stream",
     "text": [
      "4\n"
     ]
    },
    {
     "name": "stderr",
     "output_type": "stream",
     "text": [
      "100%|█████████████████████████████████████| 1500/1500 [00:02<00:00, 516.39it/s]\n",
      " 15%|█████▌                               | 226/1500 [00:00<00:01, 1134.07it/s]"
     ]
    },
    {
     "name": "stdout",
     "output_type": "stream",
     "text": [
      "2\n"
     ]
    },
    {
     "name": "stderr",
     "output_type": "stream",
     "text": [
      "100%|█████████████████████████████████████| 1500/1500 [00:01<00:00, 905.74it/s]\n",
      " 13%|████▉                                 | 193/1500 [00:00<00:01, 974.22it/s]"
     ]
    },
    {
     "name": "stdout",
     "output_type": "stream",
     "text": [
      "2\n"
     ]
    },
    {
     "name": "stderr",
     "output_type": "stream",
     "text": [
      "100%|████████████████████████████████████| 1500/1500 [00:01<00:00, 1047.70it/s]\n",
      " 23%|████████▋                            | 352/1500 [00:00<00:00, 1756.26it/s]"
     ]
    },
    {
     "name": "stdout",
     "output_type": "stream",
     "text": [
      "1\n"
     ]
    },
    {
     "name": "stderr",
     "output_type": "stream",
     "text": [
      "100%|████████████████████████████████████| 1500/1500 [00:00<00:00, 1605.93it/s]\n"
     ]
    },
    {
     "data": {
      "text/plain": [
       "<AxesSubplot:>"
      ]
     },
     "execution_count": 5,
     "metadata": {},
     "output_type": "execute_result"
    },
    {
     "data": {
      "image/png": "[encoded data removed]",
      "text/plain": [
       "<Figure size 432x288 with 1 Axes>"
      ]
     },
     "metadata": {
      "needs_background": "light"
     },
     "output_type": "display_data"
    }
   ],
   "source": [
    "for batch_size in batch_sizes:\n",
    "    _ = torch.manual_seed(1)\n",
    "    loss_fn = torch.nn.MSELoss(reduction='mean')\n",
    "    model = get_2_layer_model()\n",
    "    optimizer = torch.optim.SGD(model.parameters(), lr=2.0)\n",
    "    n_batches = int(np.ceil(len(x_train) / batch_size))\n",
    "    print(n_batches)\n",
    "\n",
    "    for epoch_no in trange(n_epochs):\n",
    "        for batch_no in range(n_batches):\n",
    "            # Get batch\n",
    "            batch_idxs = slice(batch_no * batch_size, (batch_no + 1) * batch_size)\n",
    "            x_batch = x_train[batch_idxs]\n",
    "            y_batch = y_train[batch_idxs]\n",
    "\n",
    "            pred = model(x_batch)\n",
    "            loss = loss_fn(pred, y_batch)\n",
    "            optimizer.zero_grad()\n",
    "            loss.backward()\n",
    "            optimizer.step()\n",
    "\n",
    "        with torch.no_grad():\n",
    "            pred_train = model(x_train)\n",
    "            loss_history.loc[epoch_no, batch_size] = loss_fn(pred_train, y_train).item()\n",
    "\n",
    "loss_history.plot()"
   ]
  },
  {
   "cell_type": "code",
   "execution_count": 13,
   "id": "postal-argentina",
   "metadata": {},
   "outputs": [
    {
     "name": "stderr",
     "output_type": "stream",
     "text": [
      "  3%|█▏                                     | 48/1500 [00:00<00:03, 474.13it/s]"
     ]
    },
    {
     "name": "stdout",
     "output_type": "stream",
     "text": [
      "4\n"
     ]
    },
    {
     "name": "stderr",
     "output_type": "stream",
     "text": [
      "100%|█████████████████████████████████████| 1500/1500 [00:02<00:00, 591.88it/s]\n",
      "  7%|██▌                                    | 99/1500 [00:00<00:01, 982.83it/s]"
     ]
    },
    {
     "name": "stdout",
     "output_type": "stream",
     "text": [
      "2\n"
     ]
    },
    {
     "name": "stderr",
     "output_type": "stream",
     "text": [
      "100%|████████████████████████████████████| 1500/1500 [00:01<00:00, 1094.19it/s]\n",
      "  7%|██▋                                  | 111/1500 [00:00<00:01, 1101.96it/s]"
     ]
    },
    {
     "name": "stdout",
     "output_type": "stream",
     "text": [
      "2\n"
     ]
    },
    {
     "name": "stderr",
     "output_type": "stream",
     "text": [
      "100%|████████████████████████████████████| 1500/1500 [00:01<00:00, 1087.46it/s]\n",
      " 13%|████▋                                | 189/1500 [00:00<00:00, 1885.14it/s]"
     ]
    },
    {
     "name": "stdout",
     "output_type": "stream",
     "text": [
      "1\n"
     ]
    },
    {
     "name": "stderr",
     "output_type": "stream",
     "text": [
      "100%|████████████████████████████████████| 1500/1500 [00:00<00:00, 1853.31it/s]\n"
     ]
    },
    {
     "data": {
      "text/plain": [
       "<AxesSubplot:>"
      ]
     },
     "execution_count": 13,
     "metadata": {},
     "output_type": "execute_result"
    },
    {
     "data": {
      "image/png": "[encoded data removed]",
      "text/plain": [
       "<Figure size 432x288 with 1 Axes>"
      ]
     },
     "metadata": {
      "needs_background": "light"
     },
     "output_type": "display_data"
    }
   ],
   "source": [
    "for batch_size in batch_sizes:\n",
    "    _ = torch.manual_seed(1)\n",
    "    loss_fn = torch.nn.MSELoss(reduction='mean')\n",
    "    model = get_2_layer_model()\n",
    "    optimizer = torch.optim.SGD(model.parameters(), lr=2.0)\n",
    "    n_batches = int(np.ceil(len(x_train) / batch_size))\n",
    "    print(n_batches)\n",
    "\n",
    "    for epoch_no in trange(n_epochs):\n",
    "        for batch_no in range(n_batches):\n",
    "            # Get batch\n",
    "            batch_idxs = slice(batch_no * batch_size, (batch_no + 1) * batch_size)\n",
    "            x_batch = x_train[batch_idxs]\n",
    "            y_batch = y_train[batch_idxs]\n",
    "\n",
    "            pred = model(x_batch)\n",
    "            loss = loss_fn(pred, y_batch)\n",
    "            optimizer.zero_grad()\n",
    "            loss.backward()\n",
    "            optimizer.step()\n",
    "\n",
    "        with torch.no_grad():\n",
    "            pred_train = model(x_train)\n",
    "            loss_history.loc[epoch_no, batch_size] = loss_fn(pred_train, y_train).item()\n",
    "\n",
    "loss_history.plot()"
   ]
  },
  {
   "cell_type": "code",
   "execution_count": null,
   "id": "committed-documentation",
   "metadata": {},
   "outputs": [],
   "source": []
  }
 ],
 "metadata": {
  "kernelspec": {
   "display_name": "Python 3",
   "language": "python",
   "name": "python3"
  },
  "language_info": {
   "codemirror_mode": {
    "name": "ipython",
    "version": 3
   },
   "file_extension": ".py",
   "mimetype": "text/x-python",
   "name": "python",
   "nbconvert_exporter": "python",
   "pygments_lexer": "ipython3",
   "version": "3.9.1"
  }
 },
 "nbformat": 4,
 "nbformat_minor": 5
}
