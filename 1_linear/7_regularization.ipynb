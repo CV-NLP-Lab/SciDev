{
 "cells": [
  {
   "cell_type": "markdown",
   "id": "specific-elevation",
   "metadata": {},
   "source": [
    "# 3 подхода к регуляризации весов"
   ]
  },
  {
   "cell_type": "code",
   "execution_count": 49,
   "id": "hundred-model",
   "metadata": {},
   "outputs": [
    {
     "name": "stdout",
     "output_type": "stream",
     "text": [
      "Items: 4\n"
     ]
    }
   ],
   "source": [
    "import torch\n",
    "import pandas as pd\n",
    "from tqdm import trange\n",
    "\n",
    "\n",
    "def get_xor_data():\n",
    "    x = torch.tensor([[0, 0], [0, 1], [1, 0], [1, 1]], dtype=torch.float32)\n",
    "    y = torch.tensor([0, 1, 1, 0], dtype=torch.float32)\n",
    "    return x, y\n",
    "\n",
    "\n",
    "def get_2_layer_model():\n",
    "    torch.manual_seed(1) \n",
    "    return torch.nn.Sequential(\n",
    "    torch.nn.Linear(2, 2), torch.nn.Sigmoid(),\n",
    "    torch.nn.Linear(2, 1), torch.nn.Sigmoid(),\n",
    "    torch.nn.Flatten(start_dim=0, end_dim=1)\n",
    ")\n",
    "\n",
    "x, y = get_xor_data()\n",
    "print(f'Items: {len(x)}')\n",
    "\n",
    "# Параметры\n",
    "n_epochs = 5\n",
    "lr = 2\n",
    "weight_decay = 1e-1\n",
    "loss_fn = torch.nn.MSELoss(reduction='mean')"
   ]
  },
  {
   "cell_type": "markdown",
   "id": "phantom-captain",
   "metadata": {},
   "source": [
    "## 1. Встроенный weight_decay\n",
    "\n",
    "- [-] Ненаблюдаемо\n",
    "- [-] Оптимизирует __все__ веса, в том числе сдвиг, параметры батч нормализации и прочие, которые регуляризировать не требуется\n",
    "- [-] Реализована только для нормы L2\n",
    "- [+] Встроенный функционал"
   ]
  },
  {
   "cell_type": "code",
   "execution_count": 31,
   "id": "continent-heating",
   "metadata": {},
   "outputs": [
    {
     "name": "stdout",
     "output_type": "stream",
     "text": [
      "0    0.254772\n",
      "1    0.250790\n",
      "2    0.250126\n",
      "3    0.250023\n",
      "4    0.250006\n",
      "dtype: float64\n"
     ]
    }
   ],
   "source": [
    "model = get_2_layer_model()\n",
    "loss_history = pd.Series(index=range(n_epochs), dtype=float)\n",
    "\n",
    "# --------------------------------------------------------\n",
    "optimizer = torch.optim.SGD(\n",
    "    model.parameters(), lr=lr, weight_decay=weight_decay\n",
    ")\n",
    "# --------------------------------------------------------\n",
    "\n",
    "for i in range(n_epochs):\n",
    "    pred = model(x)\n",
    "    loss = loss_fn(pred, y)\n",
    "    loss_history[i] = loss.item()\n",
    "    optimizer.zero_grad()\n",
    "    loss.backward()\n",
    "    optimizer.step()\n",
    "\n",
    "print(loss_history)"
   ]
  },
  {
   "cell_type": "markdown",
   "id": "assisted-animation",
   "metadata": {},
   "source": [
    "## 2. Добавление слагаемого к функции потерь\n",
    "- [+] Возможность просмотра графика -> возможность явного регулирования соответствующего веса\n",
    "- [+] Можно регулировать какие параметры подвержены регуляризации\n",
    "- [+] Возможен выбор нормы регуляризации\n",
    "- [-] Требует большее количество операций для дифференцирования"
   ]
  },
  {
   "cell_type": "code",
   "execution_count": 48,
   "id": "technological-highland",
   "metadata": {},
   "outputs": [
    {
     "name": "stdout",
     "output_type": "stream",
     "text": [
      "        mse        l2   l2_term      loss\n",
      "0  0.254772  1.142317  0.057116  0.311887\n",
      "1  0.250790  0.700027  0.035001  0.285791\n",
      "2  0.250126  0.441927  0.022096  0.272223\n",
      "3  0.250023  0.281584  0.014079  0.264102\n",
      "4  0.250006  0.179923  0.008996  0.259002\n"
     ]
    }
   ],
   "source": [
    "model = get_2_layer_model()\n",
    "loss_history = pd.DataFrame(\n",
    "    index=range(n_epochs),\n",
    "    columns=['mse', 'l2', 'l2_term', 'loss'],\n",
    "    dtype=float\n",
    ")\n",
    "optimizer = torch.optim.SGD(model.parameters(), lr=lr, weight_decay=0)\n",
    "\n",
    "for i in range(n_epochs):\n",
    "    pred = model(x)\n",
    "    loss = loss_fn(pred, y)\n",
    "    loss_history.mse[i] = loss\n",
    "    \n",
    "    # --------------------------------------------------------\n",
    "    l2_penalty = torch.tensor(0.0)\n",
    "    for param in model.parameters():\n",
    "        l2_penalty += param.square().sum()\n",
    "\n",
    "#     ERROR! [torch -> python -> torch] loses gradients\n",
    "#     l2_penalty = torch.sum(torch.tensor(\n",
    "#         [param.square().sum() for param in model.parameters()]\n",
    "#     ))\n",
    "    \n",
    "    l2_term = (weight_decay / 2) * l2_penalty\n",
    "    loss += l2_term\n",
    "    \n",
    "    loss_history.l2[i] = l2_penalty\n",
    "    loss_history.l2_term[i] = l2_term\n",
    "    loss_history.loss[i] = loss\n",
    "    # --------------------------------------------------------\n",
    "    \n",
    "    optimizer.zero_grad()\n",
    "    loss.backward()\n",
    "    optimizer.step()\n",
    "    \n",
    "print(loss_history)"
   ]
  },
  {
   "cell_type": "markdown",
   "id": "photographic-planet",
   "metadata": {},
   "source": [
    "## 3. Прямая модификация градиента\n",
    "\n",
    "- [-] Нет возможности просмотра графика\n",
    "- [+] Можно регулировать какие параметры подвержены регуляризации\n",
    "- [+] Возможен выбор нормы регуляризации\n",
    "- [+] Эффективная реализация: уже продифференцировано, не требуется возведение в квадрат, только сумма матриц и умножение на скаляр\n",
    "- [-] Требуется знание, как выглядит градиент"
   ]
  },
  {
   "cell_type": "code",
   "execution_count": 33,
   "id": "consecutive-publisher",
   "metadata": {},
   "outputs": [
    {
     "name": "stdout",
     "output_type": "stream",
     "text": [
      "0    0.254772\n",
      "1    0.250790\n",
      "2    0.250126\n",
      "3    0.250023\n",
      "4    0.250006\n",
      "dtype: float64\n"
     ]
    }
   ],
   "source": [
    "model = get_2_layer_model()\n",
    "loss_history = pd.Series(index=range(n_epochs), dtype=float)\n",
    "optimizer = torch.optim.SGD(model.parameters(), lr=lr, weight_decay=0)\n",
    "\n",
    "for i in range(n_epochs):\n",
    "    pred = model(x)\n",
    "    loss = loss_fn(pred, y)\n",
    "    loss_history[i] = loss.item()\n",
    "    optimizer.zero_grad()\n",
    "    loss.backward()\n",
    "    \n",
    "    # --------------------------------------------------------\n",
    "    for param in model.parameters():\n",
    "        param.grad += param * weight_decay\n",
    "    # --------------------------------------------------------\n",
    "\n",
    "    optimizer.step()\n",
    "\n",
    "print(loss_history)"
   ]
  },
  {
   "cell_type": "code",
   "execution_count": null,
   "id": "random-married",
   "metadata": {},
   "outputs": [],
   "source": []
  }
 ],
 "metadata": {
  "kernelspec": {
   "display_name": "Python 3",
   "language": "python",
   "name": "python3"
  },
  "language_info": {
   "codemirror_mode": {
    "name": "ipython",
    "version": 3
   },
   "file_extension": ".py",
   "mimetype": "text/x-python",
   "name": "python",
   "nbconvert_exporter": "python",
   "pygments_lexer": "ipython3",
   "version": "3.9.1"
  }
 },
 "nbformat": 4,
 "nbformat_minor": 5
}
