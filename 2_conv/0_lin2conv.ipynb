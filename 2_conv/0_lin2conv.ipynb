{
 "cells": [
  {
   "cell_type": "markdown",
   "id": "finite-browser",
   "metadata": {},
   "source": [
    "# Linear $\\to$ convolution"
   ]
  },
  {
   "cell_type": "markdown",
   "id": "still-student",
   "metadata": {},
   "source": [
    "# 1. Связь линейного и сверточного слоёв\n",
    "\n",
    "Реализуют **аналогичную** операцию линейного преобразования. Линейный слой -- глобально, свёрточный -- локально и с одинаковыми весами.\n",
    "\n",
    "- Линейный слой = свёртка, размер ядра которой идентичен размеру входного вектора\n",
    "- Свёрточный слой можно представить как линейный слой\n",
    "\n",
    "![title](images/conv-linear.svg)"
   ]
  },
  {
   "cell_type": "markdown",
   "id": "basic-hawaii",
   "metadata": {},
   "source": [
    "# 2. Тензоры\n",
    "\n",
    "При переходе от векторов к изображениям сигнал приобретает дополнительные измерения (3: 2 пространственных и 1 канальное). В общем случае данные представляются N-мерными тензорами.\n",
    "Для N-мерного тензора свёртка также имеет N измерений."
   ]
  }
 ],
 "metadata": {
  "kernelspec": {
   "display_name": "Python 3",
   "language": "python",
   "name": "python3"
  },
  "language_info": {
   "codemirror_mode": {
    "name": "ipython",
    "version": 3
   },
   "file_extension": ".py",
   "mimetype": "text/x-python",
   "name": "python",
   "nbconvert_exporter": "python",
   "pygments_lexer": "ipython3",
   "version": "3.9.1"
  }
 },
 "nbformat": 4,
 "nbformat_minor": 5
}
