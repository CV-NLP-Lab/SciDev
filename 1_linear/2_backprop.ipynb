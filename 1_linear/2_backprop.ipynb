{
 "cells": [
  {
   "cell_type": "markdown",
   "id": "endangered-howard",
   "metadata": {},
   "source": [
    "# Градиентный спуск с обратным распространением ошибки"
   ]
  },
  {
   "cell_type": "markdown",
   "id": "reduced-continuity",
   "metadata": {},
   "source": [
    "### Обозначения\n",
    "- $L$ - эмпирический риск\n",
    "- $l$ - $l$-й слой сети\n",
    "- $w_{ij}^l$ - вес $l$-го линейного слоя\n",
    "- $\\sigma$ - функция активации\n",
    "- $x_0 \\equiv s_0$ - входной вектор\n",
    "- $x_j^l = \\sum_i {w_{ij}^l s_i^{l-1}} = f(w_{ij}^l)$ - линейная комбинация, выход линейного слоя\n",
    "- $s_j^l = \\sigma (x_j^l)$ - выход функции активации $l$-го слоя, вход $(l+1)$-го слоя\n",
    "- $\\eta$ - скорость обучения"
   ]
  },
  {
   "cell_type": "markdown",
   "id": "responsible-hollow",
   "metadata": {},
   "source": [
    "### Градиентный спуск\n",
    "$$ \\Delta w_{ij} = -\\eta \\frac {\\partial L} {\\partial w_{ij}} $$\n",
    "\n",
    "Для всех слоев требуется посчитать $\\frac {\\partial L} {\\partial w_{ij}}$"
   ]
  },
  {
   "cell_type": "markdown",
   "id": "sweet-somewhere",
   "metadata": {},
   "source": [
    "### Для последнего слоя\n",
    "\n",
    "$$ s_j^l \\equiv \\hat y_j $$\n",
    "\n",
    "$$L = L(s_j^l, y_j) = L(\\sigma (x_j^l), y_j)= L(\\sigma (f(w_{ij}^l)), y_j)$$\n",
    "\n",
    "Раскрываем по правилу дифференцирования сложной функции:\n",
    "\n",
    "$$\n",
    "\\frac {\\partial L} {\\partial w_{ij}^l} = \n",
    "\\frac {\\partial L} {\\partial s_j^l}\n",
    "\\frac {\\partial s_j^l} {\\partial w_{ij}^l} =\n",
    "\\frac {\\partial L} {\\partial s_j^l}\n",
    "\\frac {\\partial s_j^l} {\\partial x_j^l}\n",
    "\\frac {\\partial x_j^l} {\\partial w_{ij}^l}\n",
    "$$\n",
    "\n",
    "И вычисляем все частные производные:\n",
    "\n",
    "$$\n",
    "\\frac {\\partial L} {\\partial s_j^l} \\equiv \\frac {\\partial L} {\\partial \\hat y_j} = \\delta_j^l\n",
    "$$\n",
    "- (производная эмпирического риска. Зависит только от $\\hat y_j$)\n",
    "\n",
    "$$\n",
    "\\frac {\\partial s_j^l} {\\partial x_j^l} =\n",
    "\\frac {\\partial \\sigma (x_j^l)} {\\partial x_j^l} = \\sigma' (x_j^l)\n",
    "$$\n",
    "- (производная функции активации в точке. Зависит только от $x_j^l$)\n",
    "\n",
    "$$\n",
    "\\frac {\\partial x_j^l} {\\partial w_{ij}^l} = \n",
    "\\frac {\\partial \\sum_i {w_{ij}^l s_i^{l-1}}} {\\partial w_{ij}^l} = s_i^{l-1}\n",
    "$$\n",
    "- (вход слоя)\n",
    "\n",
    "Итого:\n",
    "$$\n",
    "\\frac {\\partial L} {\\partial w_{ij}^l} =\n",
    "\\delta_j^l \\times \\sigma' (x_j^l) \\times s_i^{l-1}\n",
    "$$\n",
    "\n",
    "Также знаем:\n",
    "$$\n",
    "\\frac {\\partial L} {\\partial x_j^l} = \n",
    "\\frac {\\partial L} {\\partial s_j^l}\n",
    "\\frac {\\partial s_j^l} {\\partial x_j^l} =\n",
    "\\delta_j^l \\times \\sigma' (x_j^l)\n",
    "$$\n",
    "- (потребуется для следующего слоя)"
   ]
  },
  {
   "cell_type": "markdown",
   "id": "satellite-trance",
   "metadata": {},
   "source": [
    "### Для внутренних слоев\n",
    "\n",
    "Здесь уже требуется сумма по всем нейронам $x_k^{l+1}$:\n",
    "$$\n",
    "\\frac {\\partial L} {\\partial w_{ij}^l} = \\sum_k\n",
    "\\frac {\\partial L} {\\partial x_k^{l+1}}\n",
    "\\frac {\\partial x_k^{l+1}} {\\partial x_j^l}\n",
    "\\frac {\\partial x_j^l} {\\partial w_{ij}^l}\n",
    "$$\n",
    "\n",
    "Последний множитель не зависит от $k$, выносим его за сумму. И раскрываем вторую производную по выходу слоя $s_j^l$\n",
    "$$\n",
    "\\frac {\\partial L} {\\partial w_{ij}^l} = \n",
    "\\frac {\\partial x_j^l} {\\partial w_{ij}^l}\n",
    "\\sum_k\n",
    "\\frac {\\partial L} {\\partial x_k^{l+1}}\n",
    "\\frac {\\partial x_k^{l+1}} {\\partial s_j^l} \n",
    "\\frac {\\partial s_j^l} {\\partial x_j^l}\n",
    "$$\n",
    "\n",
    "И вычисляем все частные производные:\n",
    "$$\n",
    "\\frac {\\partial x_j^l} {\\partial w_{ij}^l} = s_i^{l-1}\n",
    "$$\n",
    "- (Аналогично предыдущему случаю, вход слоя)\n",
    "\n",
    "$$\n",
    "\\frac {\\partial s_j^l} {\\partial x_j^l} = \\sigma' (x_j^l)\n",
    "$$\n",
    "- (Аналогично предыдущему слою, производная функции активации в точке)\n",
    "\n",
    "$$\n",
    "\\frac {\\partial L} {\\partial x_k^{l+1}} = \\delta_k^{l+1} \\times \\sigma' (x_k^{l+1})\n",
    "$$\n",
    "- (Знаем ответ после вычислений на предыдущем слое)\n",
    "$$\n",
    "\\frac {\\partial x_k^{l+1}} {\\partial s_j^l} = \n",
    "\\frac {\\partial \\sum_i {w_{ik}^{l+1} s_i^l}} {\\partial s_j^l} = \n",
    "w_{jk}^{l+1}\n",
    "$$\n",
    "- (вес, соответствующий $j$-му входу)\n",
    "\n",
    "Итого:\n",
    "$$\n",
    "\\frac {\\partial L} {\\partial w_{ij}^l} = \n",
    "s_i^{l-1} \\times \\sum_k {\n",
    "\\delta_k^{l+1} \\times\n",
    "\\sigma'(x_k^{l+1}) \\times\n",
    "w_{jk}^{l+1} \\times\n",
    "\\sigma'(x_j^l) }\n",
    "$$"
   ]
  },
  {
   "cell_type": "markdown",
   "id": "exposed-celebrity",
   "metadata": {},
   "source": [
    "# Реализация алгоритма обратного распространения ошибки"
   ]
  },
  {
   "cell_type": "code",
   "execution_count": 7,
   "id": "narrow-advertiser",
   "metadata": {},
   "outputs": [],
   "source": [
    "import numpy as np, numpy.random as nr\n",
    "import pandas as pd\n",
    "import matplotlib.pyplot as plt"
   ]
  },
  {
   "cell_type": "markdown",
   "id": "minus-triple",
   "metadata": {},
   "source": [
    "# Функция активации"
   ]
  },
  {
   "cell_type": "code",
   "execution_count": 8,
   "id": "chronic-drinking",
   "metadata": {},
   "outputs": [
    {
     "data": {
      "image/png": "[encoded data removed]",
      "text/plain": [
       "<Figure size 432x288 with 1 Axes>"
      ]
     },
     "metadata": {
      "needs_background": "light"
     },
     "output_type": "display_data"
    }
   ],
   "source": [
    "def sigmoid(x):\n",
    "    return 1 / (1 + np.exp(-x))\n",
    "\n",
    "wing = 20\n",
    "x_sigmoid = np.linspace(-wing, wing, wing * 10 + 1)\n",
    "plt.plot(x_sigmoid, sigmoid(x_sigmoid), '--k')\n",
    "plt.axvline(0,   linestyle=':')\n",
    "_ = plt.axhline(0.5, linestyle=':')"
   ]
  },
  {
   "cell_type": "markdown",
   "id": "beautiful-judgment",
   "metadata": {},
   "source": [
    "# Данные: XOR (с компонентой для сдвига)"
   ]
  },
  {
   "cell_type": "code",
   "execution_count": 9,
   "id": "square-matter",
   "metadata": {},
   "outputs": [],
   "source": [
    "def get_xor_data():\n",
    "    x = np.array([\n",
    "        [0, 0, 1], [0, 1, 1],\n",
    "        [1, 0, 1], [1, 1, 1]\n",
    "    ])\n",
    "    y = np.array([[0, 1, 1, 0]]).T\n",
    "    return x, y\n",
    "\n",
    "x, y = get_xor_data()"
   ]
  },
  {
   "cell_type": "markdown",
   "id": "unusual-catch",
   "metadata": {},
   "source": [
    "# Параметры обучения"
   ]
  },
  {
   "cell_type": "code",
   "execution_count": 42,
   "id": "rational-assurance",
   "metadata": {},
   "outputs": [],
   "source": [
    "lr = 2\n",
    "n_epochs = 600\n",
    "loss_history = pd.DataFrame(index=range(n_epochs), columns=['vanilla', 'clipped'], dtype=float)"
   ]
  },
  {
   "cell_type": "markdown",
   "id": "designed-addition",
   "metadata": {},
   "source": [
    "# Два линейных слоя с инициализацией весов"
   ]
  },
  {
   "cell_type": "code",
   "execution_count": 50,
   "id": "robust-adelaide",
   "metadata": {},
   "outputs": [
    {
     "name": "stdout",
     "output_type": "stream",
     "text": [
      "1st layer contains 6 weights, 2nd layer contains 2 weights\n"
     ]
    }
   ],
   "source": [
    "nr.seed(0)\n",
    "w0 = 2 * nr.random((3, 2)) - 1\n",
    "w1 = 2 * nr.random((2, 1)) - 1\n",
    "print(f'1st layer contains {w0.size} weights, 2nd layer contains {w1.size} weights')"
   ]
  },
  {
   "cell_type": "code",
   "execution_count": 51,
   "id": "thick-french",
   "metadata": {},
   "outputs": [],
   "source": [
    "use_clip = True\n",
    "column = 'clipped' if use_clip else 'vanilla'\n",
    "\n",
    "s0 = x\n",
    "for i in range(n_epochs):\n",
    "    # forward\n",
    "    s1 = sigmoid(s0 @ w0)\n",
    "    s2 = sigmoid(s1 @ w1)\n",
    "\n",
    "    # loss (dL/ds2)\n",
    "    diff = y - s2\n",
    "    loss_history.loc[i, column] = (diff ** 2).mean()\n",
    "\n",
    "    # backward\n",
    "    ## dσ/dx\n",
    "    ds1 = s1 * (1 - s1)\n",
    "    ds2 = s2 * (1 - s2)    \n",
    "    \n",
    "    ## dL/dx\n",
    "    dx2 = ds2 * diff\n",
    "    dx1 = ds1 * (dx2 @ w1.T)\n",
    "    \n",
    "    ## Compute gradients\n",
    "    grad_1 = s1.T @ dx2\n",
    "    grad_0 = s0.T @ dx1\n",
    "    \n",
    "    if use_clip:\n",
    "        clip_value = 0.05\n",
    "        grad_1 = np.clip(grad_1, -clip_value, clip_value)\n",
    "        grad_0 = np.clip(grad_0, -clip_value, clip_value)\n",
    "    \n",
    "    # step\n",
    "    w1 += lr * grad_1\n",
    "    w0 += lr * grad_0"
   ]
  },
  {
   "cell_type": "markdown",
   "id": "ongoing-mayor",
   "metadata": {},
   "source": [
    "**NOTE:** в коде есть неточность (не влияющая здесь на поведение), которую при реализации задания нужно будет найти и исправить"
   ]
  },
  {
   "cell_type": "code",
   "execution_count": 52,
   "id": "neither-dining",
   "metadata": {},
   "outputs": [
    {
     "name": "stdout",
     "output_type": "stream",
     "text": [
      "Final loss:\n",
      " vanilla    0.016946\n",
      "clipped    0.016577\n",
      "Name: 599, dtype: float64\n"
     ]
    },
    {
     "data": {
      "image/png": "[encoded data removed]",
      "text/plain": [
       "<Figure size 432x288 with 1 Axes>"
      ]
     },
     "metadata": {
      "needs_background": "light"
     },
     "output_type": "display_data"
    }
   ],
   "source": [
    "print(f'Final loss:\\n', loss_history.iloc[-1])\n",
    "_ = loss_history.plot()"
   ]
  },
  {
   "cell_type": "code",
   "execution_count": null,
   "id": "middle-substitute",
   "metadata": {},
   "outputs": [],
   "source": []
  }
 ],
 "metadata": {
  "kernelspec": {
   "display_name": "Python 3",
   "language": "python",
   "name": "python3"
  },
  "language_info": {
   "codemirror_mode": {
    "name": "ipython",
    "version": 3
   },
   "file_extension": ".py",
   "mimetype": "text/x-python",
   "name": "python",
   "nbconvert_exporter": "python",
   "pygments_lexer": "ipython3",
   "version": "3.9.1"
  }
 },
 "nbformat": 4,
 "nbformat_minor": 5
}
