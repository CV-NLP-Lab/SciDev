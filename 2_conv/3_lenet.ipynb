{
 "cells": [
  {
   "cell_type": "markdown",
   "id": "solved-legislation",
   "metadata": {},
   "source": [
    "# Классическая свёрточная нейронная сеть LeNet-5"
   ]
  },
  {
   "cell_type": "markdown",
   "id": "objective-expense",
   "metadata": {},
   "source": [
    "Сеть LeNet-5 была [представлена](https://www.researchgate.net/publication/2985446_Gradient-Based_Learning_Applied_to_Document_Recognition) в 1998 году и представляла из себя сеть из 2 свёрточных слоёв, 2 слоёв подвыборки и 3 полносвязных слоёв.\\\n",
    "Все свёртки были размером $5\\times5$.\\\n",
    "Функция активации: *сигмоида* (ReLU ещё не придумали)\\\n",
    "Слои подвыборки: *усреднения*\n",
    "\n",
    "![Lenet5](media/lenet5.svg \"LeNeT-5\")"
   ]
  },
  {
   "cell_type": "code",
   "execution_count": 1,
   "id": "surface-distinction",
   "metadata": {},
   "outputs": [],
   "source": [
    "import os\n",
    "import struct\n",
    "import numpy as np\n",
    "import torch\n",
    "from torch.nn import Module\n",
    "from torch import nn\n",
    "from torch.nn import CrossEntropyLoss\n",
    "from torch.optim import SGD, Adam\n",
    "import matplotlib.pyplot as plt\n",
    "import pandas as pd\n",
    "from tqdm import trange\n",
    "\n",
    "_ = torch.manual_seed(1)"
   ]
  },
  {
   "cell_type": "code",
   "execution_count": 2,
   "id": "banned-adolescent",
   "metadata": {},
   "outputs": [],
   "source": [
    "class Model(Module):\n",
    "    def __init__(self, activation):\n",
    "        super(Model, self).__init__()\n",
    "        self.conv1 = nn.Conv2d(1, 6, kernel_size=5, padding=2)\n",
    "        self.a1 = nn.Sigmoid() if activation == 'Sigmoid' else nn.ReLU()\n",
    "        self.pool1 = nn.AvgPool2d(kernel_size=2, stride=2)\n",
    "        self.conv2 = nn.Conv2d(6, 16, kernel_size=5)\n",
    "        self.a2 = nn.Sigmoid() if activation == 'Sigmoid' else nn.ReLU()\n",
    "        self.pool2 = nn.AvgPool2d(kernel_size=2, stride=2)\n",
    "        self.flatten = nn.Flatten()\n",
    "        self.fc1 = nn.Linear(16 * 5 * 5, 120)\n",
    "        self.a3 = nn.Sigmoid() if activation == 'Sigmoid' else nn.ReLU()\n",
    "        self.fc2 = nn.Linear(120, 84)\n",
    "        self.a4 = nn.Sigmoid() if activation == 'Sigmoid' else nn.ReLU()\n",
    "        self.fc3 = nn.Linear(84, 10)\n",
    "        self.a5 = nn.GELU()\n",
    "        \n",
    "\n",
    "    def forward(self, x):\n",
    "        y = self.conv1(x)\n",
    "        y = self.a1(y)\n",
    "        y = self.pool1(y)\n",
    "        y = self.conv2(y)\n",
    "        y = self.a2(y)\n",
    "        y = self.pool2(y)\n",
    "#         y = y.view(y.shape[0], -1)  # взаимозаменяемо с nn.Flatten()\n",
    "        y = self.flatten(y)\n",
    "        y = self.fc1(y)\n",
    "        y = self.a3(y)\n",
    "        y = self.fc2(y)\n",
    "        y = self.a4(y)\n",
    "        y = self.fc3(y)\n",
    "        y = self.a5(y)\n",
    "        return y"
   ]
  },
  {
   "cell_type": "markdown",
   "id": "closed-short",
   "metadata": {},
   "source": [
    "![Gelu](media/gelu.png \"GELU\")"
   ]
  },
  {
   "cell_type": "code",
   "execution_count": 3,
   "id": "requested-mongolia",
   "metadata": {},
   "outputs": [],
   "source": [
    "# Чтение данных из MNIST\n",
    "def read_idx(filename):\n",
    "    with open(filename, 'rb') as f:\n",
    "        zero, data_type, dims = struct.unpack('>HBB', f.read(4))\n",
    "        shape = tuple(struct.unpack('>I', f.read(4))[0] for d in range(dims))\n",
    "        return np.frombuffer(f.read(), dtype=np.uint8).reshape(shape)"
   ]
  },
  {
   "cell_type": "code",
   "execution_count": 4,
   "id": "split-question",
   "metadata": {},
   "outputs": [
    {
     "name": "stdout",
     "output_type": "stream",
     "text": [
      "60000 items in train_images\n",
      "60000 items in train_labels\n",
      "10000 items in test_images\n",
      "10000 items in test_labels\n"
     ]
    }
   ],
   "source": [
    "mnist_root = 'media/MNIST'\n",
    "files = {\n",
    "    'train_images': os.path.join(mnist_root, 'train-images.idx3-ubyte'),\n",
    "    'train_labels': os.path.join(mnist_root, 'train-labels.idx1-ubyte'),\n",
    "    'test_images':os.path.join(mnist_root, 't10k-images.idx3-ubyte'),\n",
    "    'test_labels':os.path.join(mnist_root, 't10k-labels.idx1-ubyte')\n",
    "}\n",
    "dataset = {}\n",
    "for name, path in files.items():\n",
    "    dataset[name] = read_idx(path)\n",
    "    print(f'{len(dataset[name])} items in {name}')\n",
    "    "
   ]
  },
  {
   "cell_type": "code",
   "execution_count": 5,
   "id": "welsh-western",
   "metadata": {},
   "outputs": [
    {
     "data": {
      "image/png": "[encoded data removed]",
      "text/plain": [
       "<Figure size 432x288 with 1 Axes>"
      ]
     },
     "metadata": {
      "needs_background": "light"
     },
     "output_type": "display_data"
    },
    {
     "data": {
      "image/png": "[encoded data removed]",
      "text/plain": [
       "<Figure size 432x288 with 1 Axes>"
      ]
     },
     "metadata": {
      "needs_background": "light"
     },
     "output_type": "display_data"
    },
    {
     "data": {
      "image/png": "[encoded data removed]",
      "text/plain": [
       "<Figure size 432x288 with 1 Axes>"
      ]
     },
     "metadata": {
      "needs_background": "light"
     },
     "output_type": "display_data"
    },
    {
     "data": {
      "image/png": "[encoded data removed]",
      "text/plain": [
       "<Figure size 432x288 with 1 Axes>"
      ]
     },
     "metadata": {
      "needs_background": "light"
     },
     "output_type": "display_data"
    },
    {
     "data": {
      "image/png": "[encoded data removed]",
      "text/plain": [
       "<Figure size 432x288 with 1 Axes>"
      ]
     },
     "metadata": {
      "needs_background": "light"
     },
     "output_type": "display_data"
    },
    {
     "data": {
      "image/png": "[encoded data removed]",
      "text/plain": [
       "<Figure size 432x288 with 1 Axes>"
      ]
     },
     "metadata": {
      "needs_background": "light"
     },
     "output_type": "display_data"
    },
    {
     "data": {
      "image/png": "[encoded data removed]",
      "text/plain": [
       "<Figure size 432x288 with 1 Axes>"
      ]
     },
     "metadata": {
      "needs_background": "light"
     },
     "output_type": "display_data"
    },
    {
     "data": {
      "image/png": "[encoded data removed]",
      "text/plain": [
       "<Figure size 432x288 with 1 Axes>"
      ]
     },
     "metadata": {
      "needs_background": "light"
     },
     "output_type": "display_data"
    },
    {
     "data": {
      "image/png": "[encoded data removed]",
      "text/plain": [
       "<Figure size 432x288 with 1 Axes>"
      ]
     },
     "metadata": {
      "needs_background": "light"
     },
     "output_type": "display_data"
    },
    {
     "data": {
      "image/png": "[encoded data removed]",
      "text/plain": [
       "<Figure size 432x288 with 1 Axes>"
      ]
     },
     "metadata": {
      "needs_background": "light"
     },
     "output_type": "display_data"
    }
   ],
   "source": [
    "# Показ нескольких первых чисел\n",
    "for i in range(10):\n",
    "    plt.title(dataset['train_labels'][i])\n",
    "    plt.imshow(dataset['train_images'][i], cmap='Greys')\n",
    "    plt.show()\n",
    "    # TODO: GRAY"
   ]
  },
  {
   "cell_type": "code",
   "execution_count": 6,
   "id": "outdoor-fitness",
   "metadata": {},
   "outputs": [
    {
     "name": "stdout",
     "output_type": "stream",
     "text": [
      "33.318421449829934 78.56748998339798\n",
      "33.791224489795916 79.17246322228644\n"
     ]
    },
    {
     "name": "stderr",
     "output_type": "stream",
     "text": [
      "<ipython-input-6-e876fb0cbc7b>:12: UserWarning: The given NumPy array is not writeable, and PyTorch does not support non-writeable tensors. This means you can write to the underlying (supposedly non-writeable) NumPy array using the tensor. You may want to copy the array to protect its data or make it writeable before converting it to a tensor. This type of warning will be suppressed for the rest of this program. (Triggered internally at  ..\\torch\\csrc\\utils\\tensor_numpy.cpp:141.)\n",
      "  train_label = torch.tensor(dataset['train_labels'], dtype=torch.long)\n"
     ]
    }
   ],
   "source": [
    "# подготовка данных\n",
    "train_mean = np.mean(dataset['train_images'])\n",
    "train_std = np.std(dataset['train_images'])\n",
    "print(train_mean, train_std)\n",
    "dataset['train_images'] = (dataset['train_images'] - train_mean) / train_std\n",
    "\n",
    "test_mean = np.mean(dataset['test_images'])\n",
    "test_std = np.std(dataset['test_images'])\n",
    "print(test_mean, test_std)\n",
    "dataset['test_images'] = (dataset['test_images'] - train_mean) / train_std\n",
    "\n",
    "train_label = torch.tensor(dataset['train_labels'], dtype=torch.long)\n",
    "train_x = torch.tensor(dataset['train_images'], dtype=torch.float32).unsqueeze(1)\n",
    "test_label = torch.tensor(dataset['test_labels'], dtype=torch.long)\n",
    "test_x = torch.tensor(dataset['test_images'], dtype=torch.float32).unsqueeze(1)"
   ]
  },
  {
   "cell_type": "code",
   "execution_count": 51,
   "id": "joint-spelling",
   "metadata": {},
   "outputs": [],
   "source": [
    "def get_losshist_column(activation, optimizer, learning_rate):\n",
    "    return f'{activation}_{optimizer}_lr{learning_rate}'\n",
    "\n",
    "def log_loss(epoch, activation, optimizer, learning_rate, loss_history, loss):\n",
    "    column = get_losshist_column(activation, optimizer, learning_rate)\n",
    "    loss_history.loc[epoch, column] = loss\n",
    "    \n",
    "\n",
    "def get_optimizer(optim_name):\n",
    "    optims = {\n",
    "        'adam': Adam,\n",
    "        'sgd': SGD\n",
    "    }\n",
    "    return optims[optim_name.lower()]\n",
    "\n",
    "def init_weights(m):\n",
    "    if type(m) == nn.Linear or type(m) == nn.Conv2d:\n",
    "        nn.init.xavier_uniform_(m.weight)\n",
    "        \n",
    "def train_model(epochs, activation, optimizer_name, learning_rate, loss_history, log_dir, model_file=None):\n",
    "#     print(f'Training model: {activation} {optimizer_name} lr={learning_rate} model file = {model_file}')\n",
    "    \n",
    "    if model_file:\n",
    "        model = torch.load(model_file)\n",
    "    else:\n",
    "        model = Model(activation)\n",
    "        model.apply(init_weights)\n",
    "    \n",
    "    optimizer = get_optimizer(optimizer_name)(model.parameters(), lr=learning_rate)\n",
    "    \n",
    "    cross_error = CrossEntropyLoss()\n",
    "    t = trange(epochs)\n",
    "    \n",
    "    for e in t:\n",
    "        t.set_description(f'Epoch {e+1}, {get_losshist_column(activation, optimizer_name, learning_rate)}')\n",
    "        model.train()\n",
    "        optimizer.zero_grad()\n",
    "        predict_y = model(train_x) # для обучения используем весь пакет\n",
    "        loss = cross_error(predict_y, train_label)\n",
    "        loss_np = loss.detach().numpy()\n",
    "        log_loss(e, activation, optimizer_name, learning_rate, loss_history, loss_np)\n",
    "               \n",
    "        loss.backward()\n",
    "        optimizer.step()\n",
    "        \n",
    "        correct = 0\n",
    "        _sum = 0\n",
    "        model.eval()\n",
    "        predict_y = model(test_x)\n",
    "        predict_ys = torch.argmax(predict_y, axis=-1)\n",
    "        matches = predict_ys == test_label\n",
    "        correct += torch.sum(matches, axis=-1)\n",
    "        _sum += matches.shape[0]\n",
    "        accuracy = correct.numpy() / _sum\n",
    "        t.set_postfix(loss=loss_np, accuracy=accuracy)\n",
    "    torch.save(model,\n",
    "               os.path.join(log_dir, f'lenet{activation}_{optimizer_name}_{learning_rate:.4f}.pth'))\n",
    "    \n",
    "    "
   ]
  },
  {
   "cell_type": "code",
   "execution_count": 27,
   "id": "fatty-specialist",
   "metadata": {
    "collapsed": true,
    "jupyter": {
     "outputs_hidden": true
    }
   },
   "outputs": [
    {
     "name": "stderr",
     "output_type": "stream",
     "text": [
      "Epoch 50, ReLU_Adam_lr0.001: 100%|█████████████████████| 50/50 [04:06<00:00,  4.92s/it, accuracy=0.927, loss=0.2710861]\n",
      "Epoch 50, ReLU_Adam_lr0.003: 100%|█████████████████████| 50/50 [04:05<00:00,  4.91s/it, accuracy=0.962, loss=0.1473465]\n",
      "Epoch 50, ReLU_Adam_lr0.01: 100%|█████████████████████| 50/50 [04:06<00:00,  4.93s/it, accuracy=0.946, loss=0.31425554]\n",
      "Epoch 50, ReLU_Adam_lr0.03: 100%|███████████████████████| 50/50 [04:10<00:00,  5.00s/it, accuracy=0.098, loss=2.302889]\n",
      "Epoch 50, ReLU_Adam_lr0.1: 100%|████████████████████████| 50/50 [04:06<00:00,  4.92s/it, accuracy=0.114, loss=2.301996]\n",
      "Epoch 50, ReLU_Adam_lr0.3: 100%|████████████████████████| 50/50 [04:07<00:00,  4.96s/it, accuracy=0.098, loss=2.302889]\n",
      "Epoch 50, ReLU_Adam_lr1: 100%|██████████████████████████| 50/50 [04:08<00:00,  4.97s/it, accuracy=0.098, loss=2.302889]\n",
      "Epoch 50, ReLU_Adam_lr3: 100%|██████████████████████████| 50/50 [04:08<00:00,  4.98s/it, accuracy=0.114, loss=2.302889]\n",
      "Epoch 50, ReLU_Adam_lr10: 100%|█████████████████████████| 50/50 [04:06<00:00,  4.94s/it, accuracy=0.098, loss=2.302889]\n",
      "Epoch 50, ReLU_SGD_lr0.001: 100%|████████████████████████| 50/50 [04:06<00:00,  4.94s/it, accuracy=0.129, loss=2.29462]\n",
      "Epoch 50, ReLU_SGD_lr0.003: 100%|██████████████████████| 50/50 [04:10<00:00,  5.01s/it, accuracy=0.148, loss=2.3020349]\n",
      "Epoch 50, ReLU_SGD_lr0.01: 100%|███████████████████████| 50/50 [04:10<00:00,  5.01s/it, accuracy=0.244, loss=2.2279522]\n",
      "Epoch 50, ReLU_SGD_lr0.03: 100%|███████████████████████| 50/50 [04:10<00:00,  5.00s/it, accuracy=0.739, loss=1.3425429]\n",
      "Epoch 50, ReLU_SGD_lr0.1: 100%|████████████████████████| 50/50 [04:08<00:00,  4.97s/it, accuracy=0.659, loss=1.0630451]\n",
      "Epoch 50, ReLU_SGD_lr0.3: 100%|████████████████████████| 50/50 [04:09<00:00,  4.99s/it, accuracy=0.516, loss=1.4688894]\n",
      "Epoch 50, ReLU_SGD_lr1: 100%|██████████████████████████| 50/50 [04:06<00:00,  4.92s/it, accuracy=0.114, loss=2.3013558]\n",
      "Epoch 50, ReLU_SGD_lr3: 100%|██████████████████████████| 50/50 [04:06<00:00,  4.93s/it, accuracy=0.103, loss=2.3019156]\n",
      "Epoch 50, ReLU_SGD_lr10: 100%|███████████████████████████████| 50/50 [04:08<00:00,  4.97s/it, accuracy=0.098, loss=nan]\n",
      "Epoch 50, Sigmoid_Adam_lr0.001: 100%|██████████████████| 50/50 [04:23<00:00,  5.27s/it, accuracy=0.114, loss=2.2975829]\n",
      "Epoch 50, Sigmoid_Adam_lr0.003: 100%|██████████████████| 50/50 [04:18<00:00,  5.17s/it, accuracy=0.187, loss=2.2843559]\n",
      "Epoch 50, Sigmoid_Adam_lr0.01: 100%|███████████████████| 50/50 [04:15<00:00,  5.10s/it, accuracy=0.114, loss=2.3016465]\n",
      "Epoch 50, Sigmoid_Adam_lr0.03: 100%|███████████████████| 50/50 [04:18<00:00,  5.18s/it, accuracy=0.0982, loss=2.302983]\n",
      "Epoch 50, Sigmoid_Adam_lr0.1: 100%|█████████████████████| 50/50 [04:59<00:00,  5.98s/it, accuracy=0.098, loss=2.302889]\n",
      "Epoch 50, Sigmoid_Adam_lr0.3: 100%|█████████████████████| 50/50 [04:56<00:00,  5.93s/it, accuracy=0.098, loss=2.302889]\n",
      "Epoch 50, Sigmoid_Adam_lr1: 100%|███████████████████████| 50/50 [05:10<00:00,  6.22s/it, accuracy=0.098, loss=2.302889]\n",
      "Epoch 50, Sigmoid_Adam_lr3: 100%|███████████████████████| 50/50 [05:34<00:00,  6.70s/it, accuracy=0.098, loss=2.302889]\n",
      "Epoch 50, Sigmoid_Adam_lr10: 100%|██████████████████████| 50/50 [06:15<00:00,  7.51s/it, accuracy=0.098, loss=2.302889]\n",
      "Epoch 50, Sigmoid_SGD_lr0.001: 100%|███████████████████| 50/50 [04:19<00:00,  5.19s/it, accuracy=0.103, loss=2.3468008]\n",
      "Epoch 50, Sigmoid_SGD_lr0.003: 100%|███████████████████| 50/50 [04:18<00:00,  5.17s/it, accuracy=0.0892, loss=2.352993]\n",
      "Epoch 50, Sigmoid_SGD_lr0.01: 100%|█████████████████████| 50/50 [04:19<00:00,  5.19s/it, accuracy=0.114, loss=2.310947]\n",
      "Epoch 50, Sigmoid_SGD_lr0.03: 100%|█████████████████████| 50/50 [04:10<00:00,  5.02s/it, accuracy=0.103, loss=2.305447]\n",
      "Epoch 50, Sigmoid_SGD_lr0.1: 100%|██████████████████████| 50/50 [04:11<00:00,  5.03s/it, accuracy=0.114, loss=2.302807]\n",
      "Epoch 50, Sigmoid_SGD_lr0.3: 100%|█████████████████████| 50/50 [04:20<00:00,  5.21s/it, accuracy=0.114, loss=2.3014457]\n",
      "Epoch 50, Sigmoid_SGD_lr1: 100%|████████████████████████| 50/50 [04:34<00:00,  5.49s/it, accuracy=0.114, loss=2.300978]\n",
      "Epoch 50, Sigmoid_SGD_lr3: 100%|██████████████████████| 50/50 [04:39<00:00,  5.59s/it, accuracy=0.0892, loss=2.3021002]\n",
      "Epoch 50, Sigmoid_SGD_lr10: 100%|█████████████████████| 50/50 [04:44<00:00,  5.68s/it, accuracy=0.0892, loss=2.3023922]\n"
     ]
    },
    {
     "name": "stdout",
     "output_type": "stream",
     "text": [
      "Final loss: ReLU_Adam_lr0.001      0.2711\n",
      "ReLU_Adam_lr0.003      0.1473\n",
      "ReLU_Adam_lr0.01       0.3143\n",
      "ReLU_Adam_lr0.03       2.3029\n",
      "ReLU_Adam_lr0.1        2.3020\n",
      "ReLU_Adam_lr0.3        2.3029\n",
      "ReLU_Adam_lr1          2.3029\n",
      "ReLU_Adam_lr3          2.3029\n",
      "ReLU_Adam_lr10         2.3029\n",
      "ReLU_SGD_lr0.001       2.2946\n",
      "ReLU_SGD_lr0.003       2.3020\n",
      "ReLU_SGD_lr0.01        2.2280\n",
      "ReLU_SGD_lr0.03        1.3425\n",
      "ReLU_SGD_lr0.1         1.0630\n",
      "ReLU_SGD_lr0.3         1.4689\n",
      "ReLU_SGD_lr1           2.3014\n",
      "ReLU_SGD_lr3           2.3019\n",
      "ReLU_SGD_lr10             NaN\n",
      "Sigmoid_Adam_lr0.001   2.2976\n",
      "Sigmoid_Adam_lr0.003   2.2844\n",
      "Sigmoid_Adam_lr0.01    2.3016\n",
      "Sigmoid_Adam_lr0.03    2.3030\n",
      "Sigmoid_Adam_lr0.1     2.3029\n",
      "Sigmoid_Adam_lr0.3     2.3029\n",
      "Sigmoid_Adam_lr1       2.3029\n",
      "Sigmoid_Adam_lr3       2.3029\n",
      "Sigmoid_Adam_lr10      2.3029\n",
      "Sigmoid_SGD_lr0.001    2.3468\n",
      "Sigmoid_SGD_lr0.003    2.3530\n",
      "Sigmoid_SGD_lr0.01     2.3109\n",
      "Sigmoid_SGD_lr0.03     2.3054\n",
      "Sigmoid_SGD_lr0.1      2.3028\n",
      "Sigmoid_SGD_lr0.3      2.3014\n",
      "Sigmoid_SGD_lr1        2.3010\n",
      "Sigmoid_SGD_lr3        2.3021\n",
      "Sigmoid_SGD_lr10       2.3024\n",
      "Name: 49, dtype: float64\n"
     ]
    },
    {
     "data": {
      "image/png": "[encoded data removed]",
      "text/plain": [
       "<Figure size 432x288 with 1 Axes>"
      ]
     },
     "metadata": {
      "needs_background": "light"
     },
     "output_type": "display_data"
    }
   ],
   "source": [
    "activations = ['ReLU', 'Sigmoid']\n",
    "optimizers = ['Adam', 'SGD']\n",
    "learning_rates = [1e-3, 3e-3, 1e-2, 3e-2, 1e-1, 3e-1, 1, 3, 10]\n",
    "\n",
    "train_chedule = []\n",
    "loss_hist_columns = []\n",
    "for act in activations:\n",
    "    for opt in optimizers:\n",
    "        for lr in learning_rates:\n",
    "            train_chedule.append({\n",
    "                'activation': act,\n",
    "                'optimizer': opt,\n",
    "                'learning_rate': lr\n",
    "            })\n",
    "            loss_hist_columns.append(get_losshist_column(act, opt, lr))\n",
    "\n",
    "epochs = 50\n",
    "loss_history = pd.DataFrame(index=range(epochs), columns=loss_hist_columns, dtype=float)\n",
    "log_dir = 'lenet_log'\n",
    "os.makedirs(log_dir, exist_ok=True)\n",
    "for params in train_chedule:\n",
    "    train_model(epochs,\n",
    "                params['activation'],\n",
    "                params['optimizer'],\n",
    "                params['learning_rate'],\n",
    "                loss_history,\n",
    "                log_dir)\n",
    "\n",
    "\n",
    "pd.options.display.float_format = '{:.4f}'.format\n",
    "print(f'Final loss: {loss_history.iloc[-1]}')\n",
    "_ = loss_history.plot()\n",
    "    "
   ]
  },
  {
   "cell_type": "code",
   "execution_count": 28,
   "id": "practical-moisture",
   "metadata": {},
   "outputs": [],
   "source": [
    "loss_history.to_pickle(os.path.join(log_dir, 'lenet_loss.pkl'))"
   ]
  },
  {
   "cell_type": "code",
   "execution_count": 45,
   "id": "vital-auditor",
   "metadata": {},
   "outputs": [
    {
     "data": {
      "image/png": "[encoded data removed]",
      "text/plain": [
       "<Figure size 432x288 with 1 Axes>"
      ]
     },
     "metadata": {
      "needs_background": "light"
     },
     "output_type": "display_data"
    },
    {
     "data": {
      "image/png": "[encoded data removed]",
      "text/plain": [
       "<Figure size 432x288 with 1 Axes>"
      ]
     },
     "metadata": {
      "needs_background": "light"
     },
     "output_type": "display_data"
    },
    {
     "data": {
      "image/png": "[encoded data removed]",
      "text/plain": [
       "<Figure size 432x288 with 1 Axes>"
      ]
     },
     "metadata": {
      "needs_background": "light"
     },
     "output_type": "display_data"
    },
    {
     "data": {
      "image/png": "[encoded data removed]",
      "text/plain": [
       "<Figure size 432x288 with 1 Axes>"
      ]
     },
     "metadata": {
      "needs_background": "light"
     },
     "output_type": "display_data"
    }
   ],
   "source": [
    "# Отрисуем ход обучения отдельно ReLU, отдельно Sigmoid\n",
    "loss_history.head()\n",
    "loss_history = pd.read_pickle(os.path.join(log_dir, 'lenet_loss.pkl'))\n",
    "history_clipped = loss_history.clip(upper=3)  # умещаем всё в один масштаб\n",
    "plot_step =int(len(train_chedule)/4)\n",
    "relu_adam = history_clipped.iloc[:,0:plot_step]\n",
    "relu_sgd = history_clipped.iloc[:,plot_step:2*plot_step]\n",
    "sig_adam = history_clipped.iloc[:,2*plot_step:3*plot_step]\n",
    "sig_sgd = history_clipped.iloc[:,3*plot_step:4*plot_step]\n",
    "\n",
    "f = plt.figure()\n",
    "plt.title('ReLU Adam', color='black')\n",
    "relu_adam.plot(ax=f.gca())\n",
    "plt.legend(loc='center left', bbox_to_anchor=(1.0, 0.5))\n",
    "plt.show()\n",
    "\n",
    "f = plt.figure()\n",
    "plt.title('ReLU SGD', color='black')\n",
    "relu_sgd.plot(ax=f.gca())\n",
    "plt.legend(loc='center left', bbox_to_anchor=(1.0, 0.5))\n",
    "plt.show()\n",
    "\n",
    "f = plt.figure()\n",
    "plt.title('Sigmoid Adam', color='black')\n",
    "sig_adam.plot(ax=f.gca())\n",
    "plt.legend(loc='center left', bbox_to_anchor=(1.0, 0.5))\n",
    "plt.show()\n",
    "\n",
    "f = plt.figure()\n",
    "plt.title('Sigmoid SGD', color='black')\n",
    "sig_sgd.plot(ax=f.gca())\n",
    "plt.legend(loc='center left', bbox_to_anchor=(1.0, 0.5))\n",
    "plt.show()"
   ]
  },
  {
   "cell_type": "code",
   "execution_count": 63,
   "id": "local-procurement",
   "metadata": {},
   "outputs": [
    {
     "name": "stderr",
     "output_type": "stream",
     "text": [
      "Epoch 150, ReLU_Adam_lr0.003: 100%|████████████████| 150/150 [13:00<00:00,  5.21s/it, accuracy=0.983, loss=0.057748046]\n",
      "Epoch 150, ReLU_SGD_lr0.1: 100%|████████████████████| 150/150 [13:03<00:00,  5.23s/it, accuracy=0.735, loss=0.80667603]\n",
      "Epoch 150, Sigmoid_Adam_lr0.003: 100%|███████████████| 150/150 [13:45<00:00,  5.50s/it, accuracy=0.574, loss=1.1706038]\n",
      "Epoch 150, Sigmoid_SGD_lr10: 100%|██████████████████| 150/150 [13:45<00:00,  5.50s/it, accuracy=0.0892, loss=2.3031154]\n"
     ]
    },
    {
     "ename": "TypeError",
     "evalue": "expected str, bytes or os.PathLike object, not DataFrame",
     "output_type": "error",
     "traceback": [
      "\u001b[1;31m---------------------------------------------------------------------------\u001b[0m",
      "\u001b[1;31mTypeError\u001b[0m                                 Traceback (most recent call last)",
      "\u001b[1;32m<ipython-input-63-c5737bf24d71>\u001b[0m in \u001b[0;36m<module>\u001b[1;34m\u001b[0m\n\u001b[0;32m     20\u001b[0m                 \u001b[0mlog_dir_extra\u001b[0m\u001b[1;33m,\u001b[0m\u001b[1;33m\u001b[0m\u001b[1;33m\u001b[0m\u001b[0m\n\u001b[0;32m     21\u001b[0m                 model_fname)\n\u001b[1;32m---> 22\u001b[1;33m \u001b[0mloss_history_extra\u001b[0m\u001b[1;33m.\u001b[0m\u001b[0mto_pickle\u001b[0m\u001b[1;33m(\u001b[0m\u001b[0mos\u001b[0m\u001b[1;33m.\u001b[0m\u001b[0mpath\u001b[0m\u001b[1;33m.\u001b[0m\u001b[0mjoin\u001b[0m\u001b[1;33m(\u001b[0m\u001b[0mloss_history_extra\u001b[0m\u001b[1;33m,\u001b[0m \u001b[1;34m'lenet_loss_extra.pkl'\u001b[0m\u001b[1;33m)\u001b[0m\u001b[1;33m)\u001b[0m\u001b[1;33m\u001b[0m\u001b[1;33m\u001b[0m\u001b[0m\n\u001b[0m",
      "\u001b[1;32mc:\\users\\alexm\\miniconda3\\lib\\ntpath.py\u001b[0m in \u001b[0;36mjoin\u001b[1;34m(path, *paths)\u001b[0m\n\u001b[0;32m     76\u001b[0m \u001b[1;31m# Join two (or more) paths.\u001b[0m\u001b[1;33m\u001b[0m\u001b[1;33m\u001b[0m\u001b[1;33m\u001b[0m\u001b[0m\n\u001b[0;32m     77\u001b[0m \u001b[1;32mdef\u001b[0m \u001b[0mjoin\u001b[0m\u001b[1;33m(\u001b[0m\u001b[0mpath\u001b[0m\u001b[1;33m,\u001b[0m \u001b[1;33m*\u001b[0m\u001b[0mpaths\u001b[0m\u001b[1;33m)\u001b[0m\u001b[1;33m:\u001b[0m\u001b[1;33m\u001b[0m\u001b[1;33m\u001b[0m\u001b[0m\n\u001b[1;32m---> 78\u001b[1;33m     \u001b[0mpath\u001b[0m \u001b[1;33m=\u001b[0m \u001b[0mos\u001b[0m\u001b[1;33m.\u001b[0m\u001b[0mfspath\u001b[0m\u001b[1;33m(\u001b[0m\u001b[0mpath\u001b[0m\u001b[1;33m)\u001b[0m\u001b[1;33m\u001b[0m\u001b[1;33m\u001b[0m\u001b[0m\n\u001b[0m\u001b[0;32m     79\u001b[0m     \u001b[1;32mif\u001b[0m \u001b[0misinstance\u001b[0m\u001b[1;33m(\u001b[0m\u001b[0mpath\u001b[0m\u001b[1;33m,\u001b[0m \u001b[0mbytes\u001b[0m\u001b[1;33m)\u001b[0m\u001b[1;33m:\u001b[0m\u001b[1;33m\u001b[0m\u001b[1;33m\u001b[0m\u001b[0m\n\u001b[0;32m     80\u001b[0m         \u001b[0msep\u001b[0m \u001b[1;33m=\u001b[0m \u001b[1;34mb'\\\\'\u001b[0m\u001b[1;33m\u001b[0m\u001b[1;33m\u001b[0m\u001b[0m\n",
      "\u001b[1;31mTypeError\u001b[0m: expected str, bytes or os.PathLike object, not DataFrame"
     ]
    }
   ],
   "source": [
    "# Проверяем особые случаи, где был намёк на обучение с большим числом эпох\n",
    "epochs = 150\n",
    "variants = [{'activation': 'ReLU', 'optimizer': 'Adam', 'learning_rate': '0.00', 'lr': 0.003},\n",
    "            {'activation': 'ReLU', 'optimizer': 'SGD', 'learning_rate': '0.10', 'lr': 0.1},\n",
    "            {'activation': 'Sigmoid', 'optimizer': 'Adam', 'learning_rate': '0.00', 'lr': 0.003},\n",
    "            {'activation': 'Sigmoid', 'optimizer': 'SGD', 'learning_rate': '10.00', 'lr': 10}]\n",
    "\n",
    "loss_history_extra = pd.DataFrame(index=range(epochs), dtype=float)\n",
    "log_dir_extra = os.path.join(log_dir, 'extra')\n",
    "os.makedirs(log_dir_extra, exist_ok=True)\n",
    "\n",
    "# Дообучение\n",
    "for variant in variants:\n",
    "    model_fname = os.path.join(log_dir, f\"lenet{variant['activation']}_{variant['optimizer']}_{variant['learning_rate']}.pth\")\n",
    "    train_model(epochs,\n",
    "                variant['activation'],\n",
    "                variant['optimizer'],\n",
    "                variant['lr'],\n",
    "                loss_history_extra,\n",
    "                log_dir_extra,\n",
    "                model_fname)\n",
    "loss_history_extra.to_pickle(os.path.join(log_dir_extra, 'lenet_loss_extra.pkl'))"
   ]
  },
  {
   "cell_type": "code",
   "execution_count": 66,
   "id": "effective-navigation",
   "metadata": {},
   "outputs": [
    {
     "data": {
      "image/png": "[encoded data removed]",
      "text/plain": [
       "<Figure size 432x288 with 1 Axes>"
      ]
     },
     "metadata": {
      "needs_background": "light"
     },
     "output_type": "display_data"
    }
   ],
   "source": [
    "# Посмотрим, что дало дообучение\n",
    "loss_history_load = pd.read_pickle(os.path.join(log_dir_extra, 'lenet_loss_extra.pkl'))\n",
    "f = plt.figure()\n",
    "plt.title('Дообучение', color='black')\n",
    "loss_history_load.plot(ax=f.gca())\n",
    "plt.legend(loc='center left', bbox_to_anchor=(1.0, 0.5))\n",
    "plt.show()"
   ]
  },
  {
   "cell_type": "code",
   "execution_count": 67,
   "id": "premier-wrist",
   "metadata": {},
   "outputs": [
    {
     "data": {
      "text/html": [
       "<div>\n",
       "<style scoped>\n",
       "    .dataframe tbody tr th:only-of-type {\n",
       "        vertical-align: middle;\n",
       "    }\n",
       "\n",
       "    .dataframe tbody tr th {\n",
       "        vertical-align: top;\n",
       "    }\n",
       "\n",
       "    .dataframe thead th {\n",
       "        text-align: right;\n",
       "    }\n",
       "</style>\n",
       "<table border=\"1\" class=\"dataframe\">\n",
       "  <thead>\n",
       "    <tr style=\"text-align: right;\">\n",
       "      <th></th>\n",
       "      <th>ReLU_Adam_lr0.003</th>\n",
       "      <th>ReLU_SGD_lr0.1</th>\n",
       "      <th>Sigmoid_Adam_lr0.003</th>\n",
       "      <th>Sigmoid_SGD_lr10</th>\n",
       "    </tr>\n",
       "  </thead>\n",
       "  <tbody>\n",
       "    <tr>\n",
       "      <th>0</th>\n",
       "      <td>0.1442</td>\n",
       "      <td>1.0507</td>\n",
       "      <td>2.2800</td>\n",
       "      <td>2.3034</td>\n",
       "    </tr>\n",
       "    <tr>\n",
       "      <th>1</th>\n",
       "      <td>2.2665</td>\n",
       "      <td>1.0262</td>\n",
       "      <td>2.2703</td>\n",
       "      <td>2.3030</td>\n",
       "    </tr>\n",
       "    <tr>\n",
       "      <th>2</th>\n",
       "      <td>0.2806</td>\n",
       "      <td>1.0180</td>\n",
       "      <td>2.2574</td>\n",
       "      <td>2.3030</td>\n",
       "    </tr>\n",
       "    <tr>\n",
       "      <th>3</th>\n",
       "      <td>0.5659</td>\n",
       "      <td>1.0065</td>\n",
       "      <td>2.2415</td>\n",
       "      <td>2.3029</td>\n",
       "    </tr>\n",
       "    <tr>\n",
       "      <th>4</th>\n",
       "      <td>0.8657</td>\n",
       "      <td>1.0049</td>\n",
       "      <td>2.2210</td>\n",
       "      <td>2.3030</td>\n",
       "    </tr>\n",
       "    <tr>\n",
       "      <th>...</th>\n",
       "      <td>...</td>\n",
       "      <td>...</td>\n",
       "      <td>...</td>\n",
       "      <td>...</td>\n",
       "    </tr>\n",
       "    <tr>\n",
       "      <th>145</th>\n",
       "      <td>0.0591</td>\n",
       "      <td>0.8083</td>\n",
       "      <td>1.1739</td>\n",
       "      <td>2.3031</td>\n",
       "    </tr>\n",
       "    <tr>\n",
       "      <th>146</th>\n",
       "      <td>0.0588</td>\n",
       "      <td>0.8078</td>\n",
       "      <td>1.1733</td>\n",
       "      <td>2.3031</td>\n",
       "    </tr>\n",
       "    <tr>\n",
       "      <th>147</th>\n",
       "      <td>0.0584</td>\n",
       "      <td>0.8074</td>\n",
       "      <td>1.1722</td>\n",
       "      <td>2.3032</td>\n",
       "    </tr>\n",
       "    <tr>\n",
       "      <th>148</th>\n",
       "      <td>0.0581</td>\n",
       "      <td>0.8070</td>\n",
       "      <td>1.1713</td>\n",
       "      <td>2.3031</td>\n",
       "    </tr>\n",
       "    <tr>\n",
       "      <th>149</th>\n",
       "      <td>0.0577</td>\n",
       "      <td>0.8067</td>\n",
       "      <td>1.1706</td>\n",
       "      <td>2.3031</td>\n",
       "    </tr>\n",
       "  </tbody>\n",
       "</table>\n",
       "<p>150 rows × 4 columns</p>\n",
       "</div>"
      ],
      "text/plain": [
       "     ReLU_Adam_lr0.003  ReLU_SGD_lr0.1  Sigmoid_Adam_lr0.003  Sigmoid_SGD_lr10\n",
       "0               0.1442          1.0507                2.2800            2.3034\n",
       "1               2.2665          1.0262                2.2703            2.3030\n",
       "2               0.2806          1.0180                2.2574            2.3030\n",
       "3               0.5659          1.0065                2.2415            2.3029\n",
       "4               0.8657          1.0049                2.2210            2.3030\n",
       "..                 ...             ...                   ...               ...\n",
       "145             0.0591          0.8083                1.1739            2.3031\n",
       "146             0.0588          0.8078                1.1733            2.3031\n",
       "147             0.0584          0.8074                1.1722            2.3032\n",
       "148             0.0581          0.8070                1.1713            2.3031\n",
       "149             0.0577          0.8067                1.1706            2.3031\n",
       "\n",
       "[150 rows x 4 columns]"
      ]
     },
     "execution_count": 67,
     "metadata": {},
     "output_type": "execute_result"
    }
   ],
   "source": [
    "loss_history_extra"
   ]
  },
  {
   "cell_type": "code",
   "execution_count": 70,
   "id": "horizontal-literature",
   "metadata": {},
   "outputs": [
    {
     "data": {
      "text/plain": [
       "Model(\n",
       "  (conv1): Conv2d(1, 6, kernel_size=(5, 5), stride=(1, 1), padding=(2, 2))\n",
       "  (a1): ReLU()\n",
       "  (pool1): AvgPool2d(kernel_size=2, stride=2, padding=0)\n",
       "  (conv2): Conv2d(6, 16, kernel_size=(5, 5), stride=(1, 1))\n",
       "  (a2): ReLU()\n",
       "  (pool2): AvgPool2d(kernel_size=2, stride=2, padding=0)\n",
       "  (flatten): Flatten(start_dim=1, end_dim=-1)\n",
       "  (fc1): Linear(in_features=400, out_features=120, bias=True)\n",
       "  (a3): ReLU()\n",
       "  (fc2): Linear(in_features=120, out_features=84, bias=True)\n",
       "  (a4): ReLU()\n",
       "  (fc3): Linear(in_features=84, out_features=10, bias=True)\n",
       "  (a5): GELU()\n",
       ")"
      ]
     },
     "execution_count": 70,
     "metadata": {},
     "output_type": "execute_result"
    }
   ],
   "source": [
    "#### Визуализация слоёв для лучшей сети\n",
    "model = torch.load(os.path.join('lenet_log', 'extra', 'lenetReLU_Adam_0.0030.pth'))\n",
    "model.eval()"
   ]
  },
  {
   "cell_type": "code",
   "execution_count": 71,
   "id": "according-albania",
   "metadata": {},
   "outputs": [
    {
     "name": "stdout",
     "output_type": "stream",
     "text": [
      "2\n"
     ]
    }
   ],
   "source": [
    "no_of_layers=0\n",
    "conv_layers=[]\n",
    "model_children=list(model.children())\n",
    "\n",
    "for child in model_children:\n",
    "  if type(child)==nn.Conv2d:\n",
    "    no_of_layers+=1\n",
    "    conv_layers.append(child)\n",
    "  elif type(child)==nn.Sequential:\n",
    "    for layer in child.children():\n",
    "      if type(layer)==nn.Conv2d:\n",
    "        no_of_layers+=1\n",
    "        conv_layers.append(layer)\n",
    "print(no_of_layers)"
   ]
  },
  {
   "cell_type": "code",
   "execution_count": 119,
   "id": "still-dinner",
   "metadata": {},
   "outputs": [],
   "source": [
    "def plot_kernels(tensor, num_cols=8):\n",
    "    if not tensor.ndim==4:\n",
    "        raise Exception(\"assumes a 4D tensor\")\n",
    "    if not tensor.shape[-1]==3:\n",
    "        raise Exception(\"last dim needs to be 3 to plot\")\n",
    "    num_kernels = tensor.shape[0]\n",
    "    num_rows = 1+ num_kernels // num_cols\n",
    "    fig = plt.figure(figsize=(num_cols,num_rows))\n",
    "    for i in range(tensor.shape[0]):\n",
    "        ax1 = fig.add_subplot(num_rows,num_cols,i+1)\n",
    "        ax1.imshow(tensor[i])\n",
    "        ax1.axis('off')\n",
    "        ax1.set_xticklabels([])\n",
    "        ax1.set_yticklabels([])\n",
    "\n",
    "    plt.subplots_adjust(wspace=0.1, hspace=0.1)\n",
    "    plt.show()"
   ]
  },
  {
   "cell_type": "code",
   "execution_count": 131,
   "id": "incorrect-mandate",
   "metadata": {},
   "outputs": [
    {
     "name": "stdout",
     "output_type": "stream",
     "text": [
      "Layer  1\n",
      "(1, 5, 5)\n",
      "[[[ 0.19097878 -0.02615959 -0.16446604 -0.47814524 -0.3325633 ]\n",
      "  [ 0.02775758  0.27880314 -0.03621094 -0.31698662 -0.23260434]\n",
      "  [ 0.10169521  0.072575    0.18099135  0.17562379  0.12689969]\n",
      "  [ 0.11938916  0.09389563  0.22281526  0.07228844 -0.16708761]\n",
      "  [ 0.09205753  0.17188363 -0.10780885  0.12965192  0.07313935]]]\n"
     ]
    },
    {
     "data": {
      "image/png": "[encoded data removed]",
      "text/plain": [
       "<Figure size 3600x720 with 1 Axes>"
      ]
     },
     "metadata": {
      "needs_background": "light"
     },
     "output_type": "display_data"
    },
    {
     "name": "stdout",
     "output_type": "stream",
     "text": [
      "(1, 5, 5)\n",
      "[[[-0.08964329 -0.0224838  -0.35156375 -0.30323178 -0.2861961 ]\n",
      "  [-0.22429682 -0.27377033 -0.02397063 -0.18817225  0.06009555]\n",
      "  [ 0.09245409  0.19368172  0.10717142  0.00763337 -0.01401248]\n",
      "  [ 0.06494548  0.04163385  0.2167954   0.13394931  0.14141878]\n",
      "  [ 0.14829838  0.21938527  0.09910054  0.16593847  0.1973072 ]]]\n"
     ]
    },
    {
     "data": {
      "image/png": "[encoded data removed]",
      "text/plain": [
       "<Figure size 432x288 with 1 Axes>"
      ]
     },
     "metadata": {
      "needs_background": "light"
     },
     "output_type": "display_data"
    },
    {
     "name": "stdout",
     "output_type": "stream",
     "text": [
      "(1, 5, 5)\n",
      "[[[-0.08528677 -0.10132867  0.05147586  0.15220454 -0.03135887]\n",
      "  [-0.16835952 -0.00712203  0.210577    0.08795609 -0.16953821]\n",
      "  [-0.03094338 -0.11081092  0.10822281  0.13125363 -0.12346292]\n",
      "  [ 0.02380901 -0.04757466  0.21341623 -0.06277362  0.14971454]\n",
      "  [-0.0734119   0.24556674  0.15391894  0.20817345  0.03471296]]]\n"
     ]
    },
    {
     "data": {
      "image/png": "[encoded data removed]",
      "text/plain": [
       "<Figure size 432x288 with 1 Axes>"
      ]
     },
     "metadata": {
      "needs_background": "light"
     },
     "output_type": "display_data"
    },
    {
     "name": "stdout",
     "output_type": "stream",
     "text": [
      "(1, 5, 5)\n",
      "[[[-0.07299677 -0.18024883  0.03268858  0.06995596 -0.00486712]\n",
      "  [ 0.14582762  0.01293851  0.11186058  0.10649484  0.10869908]\n",
      "  [ 0.1894212   0.18436679  0.13689016  0.09712141 -0.07461881]\n",
      "  [-0.03731942  0.07504764  0.05633381  0.07893023  0.06459171]\n",
      "  [ 0.07050385 -0.10393272 -0.07816613  0.04287187  0.00063976]]]\n"
     ]
    },
    {
     "data": {
      "image/png": "[encoded data removed]",
      "text/plain": [
       "<Figure size 432x288 with 1 Axes>"
      ]
     },
     "metadata": {
      "needs_background": "light"
     },
     "output_type": "display_data"
    },
    {
     "name": "stdout",
     "output_type": "stream",
     "text": [
      "(1, 5, 5)\n",
      "[[[-0.17820647  0.04999113  0.09221783  0.08379552 -0.0725778 ]\n",
      "  [-0.12413746  0.09294076  0.09715194 -0.05770694  0.00231112]\n",
      "  [-0.17308894  0.11996563  0.16433166  0.05681946  0.14348899]\n",
      "  [ 0.11341612  0.01155834  0.11879048  0.1129934  -0.14033194]\n",
      "  [-0.12724783  0.11716261  0.09224737  0.13304782  0.05446288]]]\n"
     ]
    },
    {
     "data": {
      "image/png": "[encoded data removed]",
      "text/plain": [
       "<Figure size 432x288 with 1 Axes>"
      ]
     },
     "metadata": {
      "needs_background": "light"
     },
     "output_type": "display_data"
    },
    {
     "name": "stdout",
     "output_type": "stream",
     "text": [
      "(1, 5, 5)\n",
      "[[[ 0.04814268  0.139008    0.12841554  0.15207234 -0.15668589]\n",
      "  [ 0.20682624  0.08765201  0.08179931 -0.07173223  0.06871866]\n",
      "  [ 0.19807643 -0.05515897  0.09344084  0.19623104  0.07681296]\n",
      "  [ 0.08248788 -0.00795517  0.12003622 -0.22575234 -0.1875205 ]\n",
      "  [-0.08037633 -0.12351799 -0.02497067 -0.05693511 -0.20075616]]]\n"
     ]
    },
    {
     "data": {
      "image/png": "[encoded data removed]",
      "text/plain": [
       "<Figure size 432x288 with 1 Axes>"
      ]
     },
     "metadata": {
      "needs_background": "light"
     },
     "output_type": "display_data"
    },
    {
     "name": "stdout",
     "output_type": "stream",
     "text": [
      "Layer  2\n",
      "(6, 5, 5)\n",
      "[[[ 0.17737569 -0.06524301 -0.19421898  0.01859682 -0.05841552]\n",
      "  [ 0.10886009 -0.20459129 -0.19887288 -0.04712459  0.08766203]\n",
      "  [-0.01936839 -0.02848264  0.02242539  0.09323876  0.08807605]\n",
      "  [-0.06794906 -0.05439196  0.02255631  0.09715037  0.00560648]\n",
      "  [-0.01789474 -0.11158128  0.05608065  0.10869271  0.11802257]]\n",
      "\n",
      " [[ 0.05994156 -0.10610903  0.00960243 -0.09265517  0.08341455]\n",
      "  [ 0.0212668  -0.01236855  0.08023479 -0.05074056  0.04323593]\n",
      "  [-0.02151673  0.00756173 -0.10189582  0.02314852 -0.0188256 ]\n",
      "  [-0.01716652 -0.02165146 -0.0431716  -0.06232365  0.00898862]\n",
      "  [-0.00052803 -0.09490946 -0.00583423 -0.11647627  0.03701612]]\n",
      "\n",
      " [[ 0.08695827 -0.16005726 -0.0435375   0.1103528   0.06877308]\n",
      "  [-0.02405065 -0.14667217  0.1691859   0.16387007 -0.05711525]\n",
      "  [-0.16954164 -0.0618804   0.01678463  0.11417259 -0.02028589]\n",
      "  [-0.01376048  0.11212406  0.03773542  0.05210303 -0.12235653]\n",
      "  [ 0.10063356  0.03702424  0.10753699  0.09662743  0.05816925]]\n",
      "\n",
      " [[-0.06751291  0.08275622 -0.05231659  0.03810199 -0.05952521]\n",
      "  [-0.09371129  0.02092758 -0.03427052  0.03594683  0.01094136]\n",
      "  [ 0.01322062 -0.16120254 -0.02807776 -0.02291854  0.05215921]\n",
      "  [-0.00660946  0.06748114  0.03139284 -0.08659703 -0.0998562 ]\n",
      "  [ 0.01964753  0.03304993  0.0686563  -0.01185665  0.02283709]]\n",
      "\n",
      " [[ 0.04543754 -0.13432671 -0.02624826  0.002948    0.14037158]\n",
      "  [-0.14543684 -0.21045242  0.04592904  0.11756167 -0.08368842]\n",
      "  [-0.07806633 -0.00134518  0.17295131  0.05285127  0.04168968]\n",
      "  [ 0.01589453 -0.00963481  0.11286066 -0.02578846 -0.12477217]\n",
      "  [ 0.0994475   0.09974593  0.09749556 -0.02411107 -0.09340308]]\n",
      "\n",
      " [[ 0.06287281  0.04774402 -0.05763409  0.04273152  0.04378271]\n",
      "  [ 0.02461853 -0.13127193 -0.05447681  0.13290317  0.06953079]\n",
      "  [ 0.13825782 -0.24248666 -0.02289258  0.13799429  0.0840557 ]\n",
      "  [-0.06619723 -0.13780504  0.11880013  0.03229934 -0.05704457]\n",
      "  [-0.10098753 -0.07483283 -0.03024628  0.05812088 -0.04321408]]]\n"
     ]
    },
    {
     "data": {
      "image/png": "[encoded data removed]",
      "text/plain": [
       "<Figure size 3600x720 with 1 Axes>"
      ]
     },
     "metadata": {
      "needs_background": "light"
     },
     "output_type": "display_data"
    },
    {
     "name": "stdout",
     "output_type": "stream",
     "text": [
      "(6, 5, 5)\n",
      "[[[-4.60999757e-02  2.11115684e-02  1.00950733e-01  5.34860604e-02\n",
      "    7.76397884e-02]\n",
      "  [ 1.42163545e-01  1.31102771e-01  1.07678458e-01  1.01084784e-01\n",
      "    8.33441913e-02]\n",
      "  [ 2.56648101e-02 -6.79608956e-02  1.38170421e-01  1.33709610e-01\n",
      "    1.01865791e-01]\n",
      "  [-1.13128908e-01 -3.98111120e-02 -2.33811978e-03  1.50365770e-01\n",
      "    5.49286418e-02]\n",
      "  [ 1.42911702e-01  7.66374990e-02 -2.19080955e-01 -5.60495779e-02\n",
      "    1.26165122e-01]]\n",
      "\n",
      " [[ 1.82143822e-02  2.00375438e-01  1.37194976e-01  5.01255505e-02\n",
      "   -9.30327456e-03]\n",
      "  [ 3.58528085e-03  1.88205853e-01  7.37595633e-02 -7.14910179e-02\n",
      "   -3.45351100e-02]\n",
      "  [-9.58310217e-02 -2.22932063e-02 -6.09028004e-02 -1.12497702e-01\n",
      "    1.90595048e-03]\n",
      "  [-4.48443294e-02 -1.15555145e-01 -1.57705948e-01 -1.70007888e-02\n",
      "    3.78798917e-02]\n",
      "  [ 2.76525229e-01  1.08405970e-01 -5.93045652e-02 -1.26879945e-01\n",
      "   -9.31285992e-02]]\n",
      "\n",
      " [[ 7.44248852e-02 -1.37863606e-02 -6.32210774e-03 -6.04010113e-02\n",
      "    1.79048926e-02]\n",
      "  [ 2.76255496e-02  7.57518336e-02  7.05264285e-02  7.52867013e-02\n",
      "    1.13561451e-01]\n",
      "  [-1.73601940e-01 -1.61824554e-01  4.53270711e-02  7.53132179e-02\n",
      "    1.14788316e-01]\n",
      "  [-6.01950735e-02 -7.68394247e-02 -1.23831421e-01 -6.36483282e-02\n",
      "    1.98652558e-02]\n",
      "  [-1.34627707e-02 -1.27771989e-01 -1.12648360e-01  4.94586602e-02\n",
      "   -1.05328411e-01]]\n",
      "\n",
      " [[ 8.74120146e-02  6.47358373e-02  9.82109904e-02 -8.46117139e-02\n",
      "   -3.76591459e-04]\n",
      "  [ 1.38681009e-01  5.91033651e-03  5.10670580e-02  1.11115560e-01\n",
      "    9.81887989e-03]\n",
      "  [-8.45447779e-02  4.50089052e-02  1.02697507e-01  4.52585798e-03\n",
      "   -7.98434168e-02]\n",
      "  [-1.66983321e-01 -8.29035565e-02  1.40391979e-02 -2.25795712e-02\n",
      "    5.87951802e-02]\n",
      "  [ 3.86930555e-02 -1.43656492e-01  2.86093317e-02 -1.17011972e-01\n",
      "    4.46077660e-02]]\n",
      "\n",
      " [[-1.80538651e-02  7.63974935e-02  5.32446913e-02 -3.89972553e-02\n",
      "   -8.09506699e-02]\n",
      "  [ 7.71447644e-02  1.01739019e-01  7.66447629e-04  7.25925937e-02\n",
      "    1.22044245e-02]\n",
      "  [-9.40675586e-02 -1.11558467e-01  6.25954419e-02  4.89362963e-02\n",
      "    7.92648494e-02]\n",
      "  [-1.77203387e-01 -1.35667130e-01  4.58776485e-03 -4.75682765e-02\n",
      "    6.29954115e-02]\n",
      "  [ 4.85517131e-03 -7.17071295e-02 -1.43956065e-01 -5.96595220e-02\n",
      "    1.52875427e-02]]\n",
      "\n",
      " [[-3.24567445e-02  3.17967869e-02  5.12121432e-02 -6.26519322e-03\n",
      "    8.28580838e-03]\n",
      "  [ 7.54008591e-02  9.78344083e-02 -3.13098319e-02  1.20973750e-03\n",
      "   -1.20854415e-02]\n",
      "  [ 1.10354414e-02  1.28116205e-01 -1.90516263e-02  5.52517399e-02\n",
      "    6.89918473e-02]\n",
      "  [-1.37515187e-01 -1.86030846e-02 -7.46310949e-02 -7.36422092e-02\n",
      "    9.96059403e-02]\n",
      "  [-7.93906972e-02 -8.67720097e-02  1.61686272e-04  3.29830237e-02\n",
      "    3.31449807e-02]]]\n"
     ]
    },
    {
     "data": {
      "image/png": "[encoded data removed]",
      "text/plain": [
       "<Figure size 432x288 with 1 Axes>"
      ]
     },
     "metadata": {
      "needs_background": "light"
     },
     "output_type": "display_data"
    },
    {
     "name": "stdout",
     "output_type": "stream",
     "text": [
      "(6, 5, 5)\n",
      "[[[-0.09782922 -0.06659994  0.0878708   0.178367    0.12649295]\n",
      "  [ 0.05529702 -0.03448276  0.14608411  0.21269642  0.10971829]\n",
      "  [ 0.03589593 -0.06178961 -0.03819811  0.17910048  0.1521955 ]\n",
      "  [-0.02051263 -0.06375013 -0.0289872   0.0251421  -0.11735934]\n",
      "  [-0.08693384  0.02072748  0.01989037 -0.04175001 -0.13736516]]\n",
      "\n",
      " [[-0.05555017 -0.05812257 -0.07670548  0.10788392 -0.00409675]\n",
      "  [-0.04363464  0.06163589 -0.07602296  0.09144787  0.06373542]\n",
      "  [ 0.1488203   0.06682225  0.09615526  0.01516653  0.04149071]\n",
      "  [-0.0219673  -0.09680279 -0.05845542  0.047124   -0.05783712]\n",
      "  [-0.11624636 -0.1294749   0.05525126  0.13660188  0.03082472]]\n",
      "\n",
      " [[ 0.02259293  0.08847032  0.04352216  0.13840641  0.05295942]\n",
      "  [-0.01563437  0.10066875  0.08619662  0.11136441  0.03974945]\n",
      "  [ 0.01385205 -0.00404303 -0.01081106  0.06431268  0.03116859]\n",
      "  [-0.11680561  0.00446677 -0.10234079 -0.14904551 -0.08950242]\n",
      "  [-0.101349    0.00274727 -0.0741252  -0.01792774  0.05397115]]\n",
      "\n",
      " [[-0.08121484  0.01804838  0.08320495  0.01242112  0.03476367]\n",
      "  [ 0.00783622  0.08327056  0.12484659  0.12784906  0.07741761]\n",
      "  [ 0.10477702  0.03948674 -0.03645516  0.07987677 -0.0533692 ]\n",
      "  [ 0.08643683  0.06826553  0.00284438  0.003142   -0.04932455]\n",
      "  [-0.13688615 -0.15356065 -0.02892995 -0.13441446 -0.02611808]]\n",
      "\n",
      " [[ 0.00976667  0.05627847  0.02630864 -0.04298233 -0.0561056 ]\n",
      "  [ 0.03761528  0.08023849  0.13394871 -0.00379358  0.05772989]\n",
      "  [ 0.07716957 -0.07922158 -0.06095999  0.0227925   0.04825486]\n",
      "  [-0.02535177 -0.08983459 -0.15315016 -0.10650176 -0.16657305]\n",
      "  [-0.1605233  -0.06611606 -0.12516943 -0.02061495 -0.00781759]]\n",
      "\n",
      " [[-0.10173156  0.01109292 -0.06830803  0.08433412 -0.08674984]\n",
      "  [-0.0306318  -0.10398441  0.09042244 -0.03256587 -0.03694645]\n",
      "  [ 0.02448997  0.1551419   0.02199218  0.08090606 -0.04899228]\n",
      "  [ 0.08556747  0.06992661  0.05323117 -0.02368111  0.062566  ]\n",
      "  [ 0.05001902 -0.09802098 -0.06164524 -0.0810488  -0.02828093]]]\n"
     ]
    },
    {
     "data": {
      "image/png": "[encoded data removed]",
      "text/plain": [
       "<Figure size 432x288 with 1 Axes>"
      ]
     },
     "metadata": {
      "needs_background": "light"
     },
     "output_type": "display_data"
    },
    {
     "name": "stdout",
     "output_type": "stream",
     "text": [
      "(6, 5, 5)\n",
      "[[[ 2.21748766e-03 -1.70637131e-01 -1.29807562e-01  1.40564963e-02\n",
      "   -7.73733854e-02]\n",
      "  [-1.22057097e-02  5.22746891e-02 -4.56098653e-02 -4.63536531e-02\n",
      "   -2.93973386e-02]\n",
      "  [ 5.30761816e-02 -2.66096480e-02 -4.60195821e-03  7.55668879e-02\n",
      "    1.94315892e-02]\n",
      "  [-3.76016460e-02  3.13485526e-02 -2.67236400e-02  1.10884696e-01\n",
      "    1.06764615e-01]\n",
      "  [ 2.35435814e-02 -1.05759189e-01 -7.11198300e-02 -9.77708548e-02\n",
      "    1.27270730e-04]]\n",
      "\n",
      " [[ 5.07340953e-02 -8.21055323e-02  7.08994791e-02 -1.18402779e-01\n",
      "   -1.57825381e-01]\n",
      "  [-5.69548868e-02  1.00152746e-01 -3.41215692e-02  3.77550907e-02\n",
      "   -1.12731069e-01]\n",
      "  [ 5.46393879e-02 -5.69741502e-02  7.28394315e-02 -5.28221279e-02\n",
      "    2.61724163e-02]\n",
      "  [-4.26936522e-02  1.86739117e-02 -2.85152290e-02  6.85511678e-02\n",
      "   -9.55252443e-03]\n",
      "  [-3.66818085e-02 -9.54760145e-03 -1.52542695e-01 -5.72209880e-02\n",
      "   -1.06229439e-01]]\n",
      "\n",
      " [[-9.35157165e-02  1.04683779e-01  1.18131556e-01 -3.67009901e-02\n",
      "    1.90819297e-02]\n",
      "  [-5.69083057e-02  7.32575059e-02  7.37425461e-02  5.45749776e-02\n",
      "    3.15475725e-02]\n",
      "  [ 9.98495370e-02 -9.54371989e-02 -4.67462726e-02  9.87449884e-02\n",
      "    4.78562489e-02]\n",
      "  [-8.30352083e-02 -1.30843967e-01  4.52236086e-02  8.19136202e-02\n",
      "   -6.96597202e-03]\n",
      "  [ 1.76561736e-02  3.74022610e-02 -3.68576613e-03 -6.67309463e-02\n",
      "    8.57875869e-03]]\n",
      "\n",
      " [[-9.00421888e-02 -6.21634461e-02 -5.22150435e-02 -7.31092095e-02\n",
      "   -3.72315943e-02]\n",
      "  [-2.01716311e-02  8.75500664e-02 -6.29066750e-02 -7.37926411e-03\n",
      "   -3.29980962e-02]\n",
      "  [ 8.85111839e-02  1.09746553e-01  3.64891589e-02  7.81460702e-02\n",
      "    2.25563999e-02]\n",
      "  [-6.71021342e-02 -3.53140868e-02  8.43606293e-02  3.04089673e-02\n",
      "    1.91579703e-02]\n",
      "  [-1.15564242e-01 -1.36602476e-01 -5.48778549e-02 -5.73894195e-03\n",
      "    5.18234409e-02]]\n",
      "\n",
      " [[ 4.74414043e-02  5.02856486e-02  1.22829199e-01  4.63741124e-02\n",
      "   -6.17214665e-02]\n",
      "  [ 2.65097786e-02 -1.88592002e-02  3.64259891e-02  2.01586615e-02\n",
      "    8.46573934e-02]\n",
      "  [ 1.44832693e-02  6.52502943e-03 -7.85272270e-02  1.37761813e-02\n",
      "    5.06953374e-02]\n",
      "  [-5.56835867e-02 -1.11761235e-01 -7.30850846e-02  6.73438311e-02\n",
      "    6.85805082e-02]\n",
      "  [-1.43007085e-01 -1.25001729e-01 -1.64867938e-02  7.82710165e-02\n",
      "    7.42701963e-02]]\n",
      "\n",
      " [[-4.59061116e-02 -1.53315917e-01  3.56832221e-02  1.01457439e-01\n",
      "   -1.54770846e-02]\n",
      "  [-4.05382030e-02 -1.16754547e-01  7.28553459e-02  6.83500916e-02\n",
      "    2.70054322e-02]\n",
      "  [ 1.06950276e-01 -3.20525020e-02  4.93056364e-02  8.11587088e-03\n",
      "    7.48395845e-02]\n",
      "  [ 1.34256855e-01  2.03423016e-02 -3.35272439e-02  6.81655407e-02\n",
      "   -6.09816723e-02]\n",
      "  [-9.22761559e-02  2.37601753e-02  5.09798154e-02  1.02645099e-01\n",
      "    1.77236684e-02]]]\n"
     ]
    },
    {
     "data": {
      "image/png": "[encoded data removed]",
      "text/plain": [
       "<Figure size 432x288 with 1 Axes>"
      ]
     },
     "metadata": {
      "needs_background": "light"
     },
     "output_type": "display_data"
    },
    {
     "name": "stdout",
     "output_type": "stream",
     "text": [
      "(6, 5, 5)\n",
      "[[[ 0.01196082 -0.02211331 -0.03323909  0.07066268 -0.12686735]\n",
      "  [-0.140046   -0.12915297  0.11523497  0.00716835 -0.09281599]\n",
      "  [-0.02984326 -0.00481604  0.07807142  0.05492569 -0.06215366]\n",
      "  [ 0.04583266  0.10829666  0.17315644  0.07638694  0.07639231]\n",
      "  [-0.05166648  0.077352    0.09480006  0.21235235  0.19286968]]\n",
      "\n",
      " [[-0.02999494 -0.12310614 -0.08555149 -0.05614648  0.0288571 ]\n",
      "  [-0.01709637 -0.13605885 -0.12655734 -0.11834516  0.03755588]\n",
      "  [-0.11755825 -0.14564757  0.01679804 -0.01558482 -0.0535306 ]\n",
      "  [-0.12150491 -0.17967951  0.00999753  0.12261426 -0.06185282]\n",
      "  [-0.04996142 -0.11399729  0.03562615  0.11249144  0.02535568]]\n",
      "\n",
      " [[-0.07852412  0.09457348  0.18466488 -0.10375184 -0.05089418]\n",
      "  [-0.02021801  0.13527119  0.01054327 -0.0068316   0.00823223]\n",
      "  [ 0.10115689  0.05862958 -0.02261835  0.00381426 -0.13947096]\n",
      "  [-0.00703357  0.01410639  0.14116389  0.05859859 -0.13962756]\n",
      "  [ 0.10357258  0.11554115 -0.03348906  0.00836267 -0.12604605]]\n",
      "\n",
      " [[-0.10212588  0.01352292  0.10429446 -0.07216778 -0.10447433]\n",
      "  [-0.06708373  0.0520202   0.00173961 -0.07687217 -0.07572662]\n",
      "  [-0.0095032   0.07892921 -0.0626243   0.05371409  0.01161363]\n",
      "  [ 0.0126976  -0.00665035 -0.03358159 -0.05246517 -0.02810501]\n",
      "  [-0.0757308   0.04914322 -0.00206217  0.02783222 -0.03966489]]\n",
      "\n",
      " [[ 0.00534491  0.03695043  0.03617474 -0.0384558  -0.06153213]\n",
      "  [ 0.0981797   0.17041603  0.05013649  0.05122653 -0.04454369]\n",
      "  [ 0.05412765  0.14105304  0.09020072  0.02592018  0.03539365]\n",
      "  [ 0.09963495 -0.0370943   0.12345178  0.09818315 -0.08419504]\n",
      "  [-0.06828705  0.05882164  0.0336054  -0.03772775 -0.02505264]]\n",
      "\n",
      " [[-0.11961366 -0.10177145  0.15403146  0.1216632   0.02198703]\n",
      "  [-0.02871234 -0.04469317  0.10144615  0.0176521  -0.04715567]\n",
      "  [-0.06513918  0.13261959  0.01144158  0.10719234 -0.0100525 ]\n",
      "  [ 0.07887583  0.0664754  -0.01163505 -0.0271265  -0.08779059]\n",
      "  [ 0.05847886 -0.04575763 -0.02289746  0.11901629 -0.04809517]]]\n"
     ]
    },
    {
     "data": {
      "image/png": "[encoded data removed]",
      "text/plain": [
       "<Figure size 432x288 with 1 Axes>"
      ]
     },
     "metadata": {
      "needs_background": "light"
     },
     "output_type": "display_data"
    },
    {
     "name": "stdout",
     "output_type": "stream",
     "text": [
      "(6, 5, 5)\n",
      "[[[-1.32653806e-02  1.72042783e-04 -4.82556634e-02 -5.51542491e-02\n",
      "   -6.13953248e-02]\n",
      "  [ 1.91073418e-02  7.78851882e-02  1.15872838e-01  8.00948143e-02\n",
      "   -3.68575081e-02]\n",
      "  [-1.59759820e-02  1.45352900e-01  1.74686357e-01  8.23930055e-02\n",
      "    4.22200896e-02]\n",
      "  [ 5.30300923e-02  4.98504704e-03  8.94445553e-02  3.77438664e-02\n",
      "    8.13732669e-02]\n",
      "  [-6.71995757e-03 -1.01256430e-01 -4.30497946e-03 -1.59024253e-01\n",
      "   -1.01543210e-01]]\n",
      "\n",
      " [[-2.69927569e-02 -1.02444649e-01 -8.47981200e-02 -6.03107177e-02\n",
      "   -9.83913839e-02]\n",
      "  [-3.33654806e-02  6.83374926e-02 -4.21602353e-02  1.35810539e-01\n",
      "    1.00472271e-01]\n",
      "  [ 1.24936923e-01  1.93961620e-01  5.80502376e-02  1.33614868e-01\n",
      "    2.33542752e-02]\n",
      "  [ 8.76779668e-03  1.14136882e-01 -4.69759898e-03  4.50132936e-02\n",
      "   -7.64559116e-03]\n",
      "  [-1.08875632e-01 -1.63770914e-01 -1.15369536e-01  3.29716131e-03\n",
      "    7.09232986e-02]]\n",
      "\n",
      " [[ 1.43208704e-03 -7.62923285e-02 -6.74287230e-02 -6.19805716e-02\n",
      "   -3.30196656e-02]\n",
      "  [ 1.24653280e-02  4.01185006e-02 -2.31018364e-02  3.94462571e-02\n",
      "   -1.70611609e-02]\n",
      "  [ 2.17405409e-02  7.72807235e-03 -9.94980894e-03 -1.58090405e-02\n",
      "    6.42031729e-02]\n",
      "  [ 1.95574127e-02 -1.50964975e-01 -7.88156316e-02 -1.49858072e-01\n",
      "   -4.70696688e-02]\n",
      "  [-1.72765374e-01 -5.83888032e-02 -1.59983844e-01 -5.71894459e-02\n",
      "   -5.47262169e-02]]\n",
      "\n",
      " [[ 1.03860989e-01 -5.43356650e-02  2.34188163e-03 -1.00849725e-01\n",
      "   -2.17611790e-02]\n",
      "  [ 1.87546629e-02 -2.61764526e-02 -1.26340300e-01  6.63987324e-02\n",
      "    8.67994800e-02]\n",
      "  [ 9.43787843e-02 -4.24216464e-02 -4.34336402e-02  1.41157610e-02\n",
      "    3.43065597e-02]\n",
      "  [ 2.49722674e-02  1.42871067e-01  1.05589934e-01 -1.18247084e-02\n",
      "    6.50570691e-02]\n",
      "  [ 7.04383701e-02 -9.14867893e-02 -1.51208835e-02 -1.41323239e-01\n",
      "   -1.24479746e-02]]\n",
      "\n",
      " [[ 4.34014574e-02 -1.00248665e-01 -1.03716701e-01 -1.22947738e-01\n",
      "    4.11314256e-02]\n",
      "  [-1.03646919e-01 -1.16264500e-01 -5.08783571e-02  8.53415877e-02\n",
      "   -5.83228692e-02]\n",
      "  [-4.19986770e-02  9.04237032e-02  9.83532369e-02 -1.25642447e-02\n",
      "   -3.78739461e-02]\n",
      "  [ 8.22898149e-02 -1.08365104e-01  3.85014191e-02  6.12780973e-02\n",
      "   -7.92661235e-02]\n",
      "  [-1.17013149e-01 -9.57276151e-02 -5.71632013e-02 -4.23952341e-02\n",
      "    5.91200516e-02]]\n",
      "\n",
      " [[-7.81560987e-02 -9.83144157e-04 -6.55549169e-02  2.07823701e-02\n",
      "    7.69225955e-02]\n",
      "  [ 6.80147037e-02 -9.75309908e-02 -6.92661405e-02 -1.17587514e-01\n",
      "    3.81058604e-02]\n",
      "  [-8.65338668e-02 -3.11830416e-02  9.86853912e-02  3.71371832e-04\n",
      "   -4.81964573e-02]\n",
      "  [ 9.64265764e-02  1.10069543e-01  1.50898337e-01  3.15946564e-02\n",
      "    1.31220445e-01]\n",
      "  [ 1.64006561e-01  8.70429650e-02  1.87154431e-02  9.84354243e-02\n",
      "    2.60590725e-02]]]\n"
     ]
    },
    {
     "data": {
      "image/png": "[encoded data removed]",
      "text/plain": [
       "<Figure size 432x288 with 1 Axes>"
      ]
     },
     "metadata": {
      "needs_background": "light"
     },
     "output_type": "display_data"
    },
    {
     "name": "stdout",
     "output_type": "stream",
     "text": [
      "(6, 5, 5)\n",
      "[[[ 0.00261901  0.08974715 -0.06961609  0.08690775 -0.01015251]\n",
      "  [-0.08913364  0.11435258  0.10285869 -0.06461012  0.05687593]\n",
      "  [ 0.03830601  0.01800727  0.0033819   0.09249184  0.0478823 ]\n",
      "  [-0.05897134 -0.041062    0.0007989   0.05901502  0.07766733]\n",
      "  [-0.08723389  0.00807753  0.10071932 -0.03137524 -0.00252401]]\n",
      "\n",
      " [[ 0.00785801 -0.00201995 -0.06607537 -0.09384955 -0.13099949]\n",
      "  [-0.0162663  -0.03536779 -0.10531415 -0.05396863  0.00706419]\n",
      "  [ 0.00151941  0.05360813 -0.08537681  0.01392649 -0.11355499]\n",
      "  [ 0.04094993  0.00568257 -0.09943981  0.02957483 -0.08206601]\n",
      "  [ 0.07441892 -0.0820885  -0.04969548  0.12663409  0.00758019]]\n",
      "\n",
      " [[ 0.066393    0.11021871  0.09881604  0.09030114  0.03155824]\n",
      "  [ 0.05902781 -0.04597441  0.13051149  0.02301887 -0.10560468]\n",
      "  [ 0.12360951  0.02760583  0.1342485  -0.05964951 -0.00187095]\n",
      "  [-0.00370427 -0.05899158  0.02062313 -0.08457679 -0.01558077]\n",
      "  [-0.0864896   0.00254593 -0.02252886  0.00070139 -0.08553164]]\n",
      "\n",
      " [[ 0.00026256 -0.0247349  -0.07889118 -0.07265182 -0.07124681]\n",
      "  [-0.06307063 -0.05776781  0.05753803  0.04755317 -0.04742685]\n",
      "  [ 0.03092167 -0.03925207  0.02601264 -0.10584572  0.00665054]\n",
      "  [-0.04052779 -0.05517296 -0.04821753  0.04381561 -0.0637548 ]\n",
      "  [-0.0068326  -0.05646179  0.06989597  0.05109541  0.02832849]]\n",
      "\n",
      " [[ 0.04820977  0.04323919  0.08471254 -0.0661209  -0.01505378]\n",
      "  [ 0.04072937  0.09637843  0.01194313 -0.03941119 -0.05724087]\n",
      "  [-0.02293215  0.13503256  0.13071309  0.01103888 -0.04247382]\n",
      "  [-0.0378309   0.04966843  0.06372672  0.08027497 -0.02713273]\n",
      "  [ 0.01516501  0.03762096  0.05443672  0.0292449  -0.05689956]]\n",
      "\n",
      " [[-0.0637815   0.07903918 -0.02919948  0.07648657 -0.10724828]\n",
      "  [-0.00225968  0.00782393  0.03770465 -0.03111736 -0.00269638]\n",
      "  [ 0.08619113 -0.07651303  0.07457165  0.07010587 -0.10670847]\n",
      "  [ 0.06287154  0.12156179  0.03165506  0.05327348  0.05311841]\n",
      "  [ 0.10634727  0.01669248 -0.06923333  0.1115058   0.02832238]]]\n"
     ]
    },
    {
     "data": {
      "image/png": "[encoded data removed]",
      "text/plain": [
       "<Figure size 432x288 with 1 Axes>"
      ]
     },
     "metadata": {
      "needs_background": "light"
     },
     "output_type": "display_data"
    },
    {
     "name": "stdout",
     "output_type": "stream",
     "text": [
      "(6, 5, 5)\n",
      "[[[ 0.07506081  0.10011587  0.08281823  0.02711852  0.147865  ]\n",
      "  [-0.09713741 -0.13889511  0.0059581   0.06300099  0.04630219]\n",
      "  [ 0.034102   -0.00203927 -0.06769688 -0.00583261  0.01796835]\n",
      "  [ 0.08549768 -0.12040987  0.10540016  0.06655577 -0.04802134]\n",
      "  [-0.03646765  0.04137603  0.08784719 -0.04865092 -0.13244478]]\n",
      "\n",
      " [[ 0.07467724 -0.05958578  0.05365237  0.02661131  0.1317287 ]\n",
      "  [-0.24329147 -0.0340864  -0.04817363 -0.13478386 -0.08936341]\n",
      "  [-0.09258155 -0.04361344  0.15592039 -0.01299654 -0.03114937]\n",
      "  [-0.02338021  0.0072738   0.05054798 -0.0777801  -0.02770751]\n",
      "  [-0.05930642 -0.04777561  0.02877714  0.00071047  0.04467671]]\n",
      "\n",
      " [[ 0.08897589 -0.0713165  -0.02649781 -0.05885455  0.06779402]\n",
      "  [-0.12403293 -0.04342813 -0.10029063 -0.07229057 -0.05280633]\n",
      "  [-0.12741908 -0.04463813 -0.08817429  0.01912667  0.01171744]\n",
      "  [-0.10171536  0.06932256 -0.01396075  0.07599249  0.07929306]\n",
      "  [ 0.01286667  0.09148899  0.14435168 -0.07908314 -0.01193453]]\n",
      "\n",
      " [[ 0.0887696   0.08140221 -0.00344724  0.09637689  0.14482096]\n",
      "  [ 0.01564476 -0.08442859 -0.04208434 -0.03241579 -0.11021399]\n",
      "  [-0.20802814 -0.08266036 -0.00807629 -0.07879039 -0.09981588]\n",
      "  [-0.10856304 -0.08179288  0.04413329 -0.08333982 -0.04821221]\n",
      "  [ 0.08894978  0.07502328  0.06018248 -0.04850392  0.02165309]]\n",
      "\n",
      " [[ 0.11198571  0.06256893 -0.00570849  0.11955696  0.08931938]\n",
      "  [-0.02809432 -0.16990222 -0.05140585 -0.09457128  0.02968713]\n",
      "  [-0.17512183 -0.0518301  -0.01685311 -0.08654433 -0.07551565]\n",
      "  [-0.03053063 -0.03434471  0.00234036 -0.0128708  -0.08985122]\n",
      "  [-0.01716416  0.0564019   0.0143035   0.07603042  0.00939916]]\n",
      "\n",
      " [[ 0.01374481  0.15926415  0.18098807  0.15205003 -0.04354747]\n",
      "  [ 0.11699662 -0.01589724  0.01044483  0.1053379   0.08142295]\n",
      "  [ 0.04129783 -0.1655678  -0.08361901  0.06088361  0.02401557]\n",
      "  [-0.0653225  -0.11735125  0.01268262  0.0476488  -0.10529482]\n",
      "  [ 0.04203025 -0.02011138 -0.03724421  0.13098116 -0.05443556]]]\n"
     ]
    },
    {
     "data": {
      "image/png": "[encoded data removed]",
      "text/plain": [
       "<Figure size 432x288 with 1 Axes>"
      ]
     },
     "metadata": {
      "needs_background": "light"
     },
     "output_type": "display_data"
    },
    {
     "name": "stdout",
     "output_type": "stream",
     "text": [
      "(6, 5, 5)\n",
      "[[[ 0.13932112  0.03610817  0.06646903  0.04941081 -0.01503895]\n",
      "  [ 0.01507403 -0.0325741  -0.08657701 -0.08490132 -0.01316038]\n",
      "  [-0.0187139  -0.01710271 -0.02358384  0.09224495 -0.02002043]\n",
      "  [-0.03583545 -0.02838522 -0.01926788 -0.020693    0.05144601]\n",
      "  [-0.02271687 -0.03873039  0.00529321 -0.12076298  0.06725945]]\n",
      "\n",
      " [[ 0.11736203  0.01122966  0.14510898  0.1000377  -0.09695946]\n",
      "  [ 0.02477617 -0.06073735 -0.07175207  0.04326313  0.02881475]\n",
      "  [ 0.09194584  0.06663974  0.06759363  0.0899398   0.13254943]\n",
      "  [ 0.12890859  0.11671127  0.15697525  0.09344646  0.0561234 ]\n",
      "  [ 0.02462943  0.02065581  0.03542493 -0.0267636  -0.04620523]]\n",
      "\n",
      " [[ 0.07521953 -0.02855173 -0.06382841 -0.03208767 -0.12587623]\n",
      "  [-0.00419152 -0.06102193 -0.09335904 -0.06266142 -0.08163606]\n",
      "  [ 0.08374301  0.10225431  0.09229301  0.07665158  0.08159579]\n",
      "  [ 0.05948122 -0.03064865  0.07379696 -0.00427947 -0.06501792]\n",
      "  [-0.14210783 -0.17558943 -0.15101622 -0.12558503  0.0217611 ]]\n",
      "\n",
      " [[-0.04041387  0.03545561  0.00981161 -0.07067697  0.05548959]\n",
      "  [ 0.04002778 -0.04332116 -0.03168344 -0.11011063 -0.07640663]\n",
      "  [ 0.02244366  0.04729361 -0.06669755  0.01698794 -0.00262597]\n",
      "  [ 0.00082076  0.06875886  0.02112174  0.08202626 -0.02661704]\n",
      "  [-0.00766107 -0.03853882 -0.02955237  0.07533818  0.01490397]]\n",
      "\n",
      " [[ 0.00268514  0.09639446  0.01282563 -0.10450479 -0.0353574 ]\n",
      "  [-0.06438855 -0.06940115 -0.12068186 -0.07647073 -0.08177139]\n",
      "  [-0.09751774  0.07331634 -0.04043398 -0.03632744  0.05309646]\n",
      "  [ 0.01282459 -0.0774657   0.00315168  0.10721583  0.02281704]\n",
      "  [-0.09684523  0.0052135  -0.0798898  -0.02546858 -0.0406973 ]]\n",
      "\n",
      " [[-0.00709791 -0.0007421   0.00758354  0.10872781 -0.05346365]\n",
      "  [-0.0796201   0.0996562   0.02430951  0.08065921  0.05080541]\n",
      "  [-0.03035817 -0.06931727 -0.06561356 -0.04293952  0.03891475]\n",
      "  [-0.01539521  0.01575937  0.13420504  0.08083479  0.13338412]\n",
      "  [ 0.06024892  0.145612    0.10592179  0.11529089  0.13998233]]]\n"
     ]
    },
    {
     "data": {
      "image/png": "[encoded data removed]",
      "text/plain": [
       "<Figure size 432x288 with 1 Axes>"
      ]
     },
     "metadata": {
      "needs_background": "light"
     },
     "output_type": "display_data"
    },
    {
     "name": "stdout",
     "output_type": "stream",
     "text": [
      "(6, 5, 5)\n",
      "[[[-1.31450519e-01 -2.42790710e-02 -9.02296901e-02 -1.09703332e-01\n",
      "    2.45980658e-02]\n",
      "  [ 2.12483294e-02 -1.18156746e-01 -5.94371147e-02 -1.33108541e-01\n",
      "   -9.83011201e-02]\n",
      "  [-1.78903099e-02  6.77192817e-03  3.89684550e-02 -1.53753778e-03\n",
      "   -5.92993051e-02]\n",
      "  [ 1.19455561e-01  5.64300045e-02 -8.39297287e-03 -5.67726269e-02\n",
      "   -5.91431372e-02]\n",
      "  [-3.72330137e-02  1.48895755e-01  1.10625580e-01  1.03168413e-01\n",
      "    1.02436341e-01]]\n",
      "\n",
      " [[-6.33625314e-02 -6.08808398e-02  3.53090618e-05  3.32548432e-02\n",
      "   -1.34003460e-01]\n",
      "  [-5.02000563e-02  3.78269590e-02 -1.63702071e-01 -3.38689312e-02\n",
      "    1.88652966e-02]\n",
      "  [ 9.35036168e-02  6.10208176e-02 -1.76970661e-02  1.11465633e-01\n",
      "    1.72999308e-01]\n",
      "  [ 1.08133994e-01  1.23280957e-01  1.36260316e-01  2.66850996e-03\n",
      "    1.12458587e-01]\n",
      "  [-3.63126397e-02  3.80879492e-02 -2.10842714e-02  1.96282044e-02\n",
      "    5.88861257e-02]]\n",
      "\n",
      " [[-3.08020543e-02 -1.11078881e-01 -1.35425672e-01 -1.25046238e-01\n",
      "   -1.13091961e-01]\n",
      "  [-3.72312143e-02  5.56122847e-02 -1.34772599e-01 -2.01342292e-02\n",
      "   -2.62625497e-02]\n",
      "  [-1.92102417e-02  9.92875919e-02 -3.50702107e-02 -7.82539546e-02\n",
      "   -3.76708955e-02]\n",
      "  [ 1.10000134e-01  6.16777502e-02  9.39754993e-02  9.04760659e-02\n",
      "    1.15764856e-01]\n",
      "  [-5.71623370e-02 -4.93732356e-02 -4.59986217e-02  6.97396547e-02\n",
      "   -4.12798524e-02]]\n",
      "\n",
      " [[-7.32656121e-02 -6.87369034e-02  6.73124418e-02  4.97800596e-02\n",
      "    1.29896089e-01]\n",
      "  [ 7.82433854e-05 -1.42353773e-01 -1.74321637e-01 -1.50520861e-01\n",
      "   -7.21613467e-02]\n",
      "  [ 4.92408983e-02 -5.28816134e-02  2.64589563e-02 -9.38263237e-02\n",
      "   -1.09511204e-01]\n",
      "  [ 1.58730168e-02  3.88220251e-02  1.01914257e-01  1.18338749e-01\n",
      "    1.03199504e-01]\n",
      "  [ 1.31898746e-01  9.36662108e-02 -3.76276560e-02 -2.38104537e-02\n",
      "    1.14151679e-01]]\n",
      "\n",
      " [[ 1.25369839e-02  7.29006156e-02 -5.89030348e-02 -1.02037527e-01\n",
      "   -5.46425022e-02]\n",
      "  [-1.07112251e-01 -3.72615904e-02 -1.35561274e-02 -1.33649185e-01\n",
      "   -5.85279390e-02]\n",
      "  [-2.85421703e-02 -2.56276876e-02 -2.07939185e-02  6.94447458e-02\n",
      "   -6.46503940e-02]\n",
      "  [-1.34995515e-02  6.08335249e-02  1.06611677e-01  5.40546328e-02\n",
      "    1.39663473e-01]\n",
      "  [ 1.33355677e-01  8.33078250e-02 -3.37294564e-02  8.66738781e-02\n",
      "    4.46663098e-03]]\n",
      "\n",
      " [[ 8.12946111e-02 -4.56883460e-02 -3.62999849e-02  7.34550804e-02\n",
      "    1.48306802e-01]\n",
      "  [-9.48907137e-02 -8.02677032e-03 -3.91089432e-02 -4.02911529e-02\n",
      "   -8.70821103e-02]\n",
      "  [ 2.02935599e-02  9.32336412e-03 -1.30554974e-01 -1.43039152e-01\n",
      "   -3.50607708e-02]\n",
      "  [ 3.41523066e-03  2.13241018e-02 -2.28285026e-02 -4.02808115e-02\n",
      "   -4.64180931e-02]\n",
      "  [ 1.19172044e-01  7.58068487e-02  2.14166827e-02  1.69259291e-02\n",
      "    1.36021614e-01]]]\n"
     ]
    },
    {
     "data": {
      "image/png": "[encoded data removed]",
      "text/plain": [
       "<Figure size 432x288 with 1 Axes>"
      ]
     },
     "metadata": {
      "needs_background": "light"
     },
     "output_type": "display_data"
    },
    {
     "name": "stdout",
     "output_type": "stream",
     "text": [
      "(6, 5, 5)\n",
      "[[[-0.09365842 -0.04399523  0.07327424  0.04937197 -0.09809599]\n",
      "  [ 0.03541567 -0.06014692  0.00864281 -0.08406619 -0.13632728]\n",
      "  [-0.10316993 -0.07966039 -0.02428312 -0.01737398 -0.14055589]\n",
      "  [-0.17015314 -0.0696367   0.08159765 -0.14405023 -0.140423  ]\n",
      "  [-0.05754439  0.03027546  0.08844999 -0.11288999 -0.00164977]]\n",
      "\n",
      " [[ 0.03816818  0.04883001 -0.04597631 -0.11020538 -0.12492651]\n",
      "  [ 0.09181096  0.00304981 -0.01632604 -0.05413022 -0.1284639 ]\n",
      "  [ 0.0672637   0.01584899 -0.18693297 -0.14730047 -0.02895716]\n",
      "  [-0.12677157 -0.05115821 -0.15931687 -0.05450079  0.16006222]\n",
      "  [-0.12111092 -0.10655405  0.09874389  0.11803535  0.12375981]]\n",
      "\n",
      " [[ 0.03919431 -0.01229844  0.1143902  -0.01855752  0.02486993]\n",
      "  [-0.03832961  0.11182828  0.04186273 -0.0884942  -0.00946207]\n",
      "  [ 0.11388838  0.19482392 -0.0938611  -0.13334724  0.17820263]\n",
      "  [ 0.1262692  -0.00039383 -0.08506616 -0.02986735  0.03737944]\n",
      "  [ 0.09270562  0.11662987 -0.12029192  0.1729001   0.13684255]]\n",
      "\n",
      " [[ 0.05617996  0.05388591 -0.07511662 -0.06533331  0.11196873]\n",
      "  [-0.08197645  0.01891072  0.00213145 -0.01738945  0.00949912]\n",
      "  [-0.05441834  0.0548337   0.02521351 -0.12908342 -0.06865998]\n",
      "  [ 0.14192423 -0.00470344 -0.05351863 -0.04692855  0.07093071]\n",
      "  [-0.01256621  0.06845781 -0.02207567 -0.01792701  0.16286457]]\n",
      "\n",
      " [[ 0.01576391  0.05684883  0.11072741  0.06822072 -0.00862359]\n",
      "  [ 0.01179959  0.16367827 -0.02224067 -0.15951034  0.00135117]\n",
      "  [ 0.13713561  0.18183547  0.00839991 -0.15202732  0.11254061]\n",
      "  [ 0.01021361  0.05456908 -0.17546701 -0.06491808  0.08779211]\n",
      "  [ 0.19522108 -0.01084669 -0.15716083  0.12915246  0.11905213]]\n",
      "\n",
      " [[ 0.03534733  0.05819497  0.11092981 -0.05358856 -0.09355853]\n",
      "  [ 0.02995823 -0.06833448  0.12904797  0.01189713 -0.1091423 ]\n",
      "  [ 0.09116343  0.04729282  0.02518919 -0.11753371 -0.07962909]\n",
      "  [ 0.03154676 -0.01738425  0.0402941  -0.0208602  -0.00252237]\n",
      "  [ 0.07788777  0.15505101 -0.13695209 -0.00653101  0.02205267]]]\n"
     ]
    },
    {
     "data": {
      "image/png": "[encoded data removed]",
      "text/plain": [
       "<Figure size 432x288 with 1 Axes>"
      ]
     },
     "metadata": {
      "needs_background": "light"
     },
     "output_type": "display_data"
    },
    {
     "name": "stdout",
     "output_type": "stream",
     "text": [
      "(6, 5, 5)\n",
      "[[[ 4.31636907e-02  5.20555787e-02  5.46227917e-02 -9.47605297e-02\n",
      "    1.22457221e-01]\n",
      "  [-2.82524955e-02  4.04231660e-02 -1.33246467e-01 -5.37241101e-02\n",
      "    1.22612096e-01]\n",
      "  [-5.75084165e-02 -8.77869222e-03 -9.22650620e-02  6.23445846e-02\n",
      "    1.02124684e-01]\n",
      "  [ 3.03101391e-02  1.98994484e-02  7.85542801e-02  1.27841473e-01\n",
      "   -1.88296419e-02]\n",
      "  [ 3.86092626e-02  7.17668533e-02  7.39632919e-02  7.68548697e-02\n",
      "   -1.43654598e-02]]\n",
      "\n",
      " [[-8.30364898e-02  3.89257818e-02  1.65178422e-02  2.37962324e-02\n",
      "   -3.00268978e-02]\n",
      "  [-4.57582809e-02  4.98002321e-02 -9.15339291e-02 -1.02197446e-01\n",
      "   -7.95965567e-02]\n",
      "  [-1.05506644e-01 -3.02368663e-02  7.33773932e-02  1.26614037e-03\n",
      "    1.59356426e-02]\n",
      "  [-4.26049381e-02 -6.46880642e-02  1.48694918e-01  1.63383290e-01\n",
      "    1.68982089e-01]\n",
      "  [-9.56391767e-02  1.31862089e-02  9.52519476e-02  1.17716022e-01\n",
      "    1.22252427e-01]]\n",
      "\n",
      " [[ 1.22854531e-01 -7.22835734e-02 -7.26667792e-02  1.11420847e-01\n",
      "    8.82294327e-02]\n",
      "  [ 2.75850706e-02  7.14719817e-02 -3.30603868e-02  5.36004528e-02\n",
      "   -2.56414711e-02]\n",
      "  [ 8.72940943e-02 -8.89357552e-02  2.98887379e-02 -6.50946870e-02\n",
      "   -1.06636621e-01]\n",
      "  [-4.25435118e-02 -1.01979524e-01 -3.67107056e-02 -8.01877752e-02\n",
      "   -3.95792350e-02]\n",
      "  [-1.16783450e-03 -3.27990134e-03 -6.22137859e-02  1.90093033e-02\n",
      "   -3.90870571e-02]]\n",
      "\n",
      " [[ 3.94890159e-02 -8.84952396e-02  9.25638655e-04 -4.27960493e-02\n",
      "   -7.68782794e-02]\n",
      "  [-4.40098867e-02 -4.52992134e-02 -4.49309163e-02  8.57957006e-02\n",
      "    7.08240643e-02]\n",
      "  [ 9.82008278e-02  6.53991156e-05 -7.10963309e-02 -8.89570937e-02\n",
      "    3.73661853e-02]\n",
      "  [ 6.26912341e-02  7.39634037e-02  8.67361650e-02  5.68461791e-03\n",
      "   -8.40276927e-02]\n",
      "  [-1.09457649e-01 -6.26069829e-02  7.92569444e-02  4.93175350e-02\n",
      "    6.76671267e-02]]\n",
      "\n",
      " [[ 9.53092575e-02  1.28907273e-02 -8.36412013e-02  6.85753301e-02\n",
      "   -3.84457633e-02]\n",
      "  [ 7.49014318e-02  9.75971855e-03 -4.12761383e-02 -1.05283007e-01\n",
      "    6.02311827e-02]\n",
      "  [-7.26789087e-02 -2.47186702e-02 -1.16432272e-01 -9.79672596e-02\n",
      "    5.33197001e-02]\n",
      "  [ 9.57710017e-03 -3.02734058e-02 -1.06044218e-01 -4.89831567e-02\n",
      "    5.24340086e-02]\n",
      "  [ 2.29461193e-02 -4.09383215e-02 -6.18108474e-02 -6.66908473e-02\n",
      "   -4.54759458e-03]]\n",
      "\n",
      " [[ 1.33948997e-02  8.93435404e-02 -4.75485763e-03  2.61658430e-02\n",
      "   -8.29887092e-02]\n",
      "  [ 5.88503554e-02  9.90948230e-02  1.78330969e-02 -5.60880378e-02\n",
      "   -4.08374406e-02]\n",
      "  [ 3.59096192e-02 -7.93204308e-02  1.47069967e-03  6.07988276e-02\n",
      "   -3.32135111e-02]\n",
      "  [ 6.05476126e-02  5.93674416e-03 -5.06294332e-02 -3.70082855e-02\n",
      "    6.37176782e-02]\n",
      "  [ 2.57625785e-02 -2.39956174e-02 -7.54060820e-02  1.57380421e-02\n",
      "   -4.95568030e-02]]]\n"
     ]
    },
    {
     "data": {
      "image/png": "[encoded data removed]",
      "text/plain": [
       "<Figure size 432x288 with 1 Axes>"
      ]
     },
     "metadata": {
      "needs_background": "light"
     },
     "output_type": "display_data"
    },
    {
     "name": "stdout",
     "output_type": "stream",
     "text": [
      "(6, 5, 5)\n",
      "[[[-0.06561537  0.01153005 -0.19299753 -0.05878796 -0.04860345]\n",
      "  [ 0.02173817 -0.1470431  -0.1966555  -0.11002189  0.00029183]\n",
      "  [ 0.05773636 -0.07773232  0.04012584  0.13102873  0.12297584]\n",
      "  [ 0.07744904 -0.01494851 -0.04969477  0.04527584 -0.03465961]\n",
      "  [ 0.11645839 -0.09638333  0.13283363  0.07478996 -0.05663521]]\n",
      "\n",
      " [[-0.03716048 -0.00801838 -0.06755481 -0.07992861  0.04113988]\n",
      "  [-0.06783713  0.13369009  0.02012343 -0.0962574  -0.02623788]\n",
      "  [-0.03482829 -0.02329168 -0.09532075 -0.09987298  0.03473347]\n",
      "  [ 0.0018812  -0.07035404 -0.10040263  0.13114667  0.13087049]\n",
      "  [ 0.08618946  0.08116424 -0.0389622   0.15836278  0.12556465]]\n",
      "\n",
      " [[-0.05491004 -0.03862486 -0.00676229  0.11290658  0.03933579]\n",
      "  [ 0.04068264 -0.03111554  0.15032499  0.07108083  0.02604672]\n",
      "  [-0.01717075  0.10038635  0.11161508 -0.08205488 -0.13823253]\n",
      "  [ 0.0199972   0.08508378 -0.06621029  0.01507304  0.03800049]\n",
      "  [ 0.04614535  0.05927467 -0.02721111 -0.09572356 -0.00449842]]\n",
      "\n",
      " [[-0.08317524 -0.01918682  0.01854365  0.09534827  0.13543895]\n",
      "  [-0.11264084  0.05713717  0.12655929 -0.06119427  0.06806505]\n",
      "  [-0.04128156  0.06308758  0.01085077  0.0061165  -0.0344746 ]\n",
      "  [-0.01776092 -0.12020697 -0.13669224  0.033656   -0.08872013]\n",
      "  [-0.05912891  0.0848524  -0.02569206 -0.03623443  0.10088196]]\n",
      "\n",
      " [[ 0.07947417 -0.15651785 -0.0661581   0.13134724  0.09218567]\n",
      "  [-0.03749014 -0.02586166  0.08833902  0.10274731  0.11953632]\n",
      "  [-0.10363368 -0.06307032  0.0269922   0.03148442  0.00932643]\n",
      "  [ 0.09458377 -0.05834747  0.01456429 -0.13439883 -0.10685854]\n",
      "  [ 0.09092881 -0.00046209 -0.00545326 -0.06442417 -0.02937919]]\n",
      "\n",
      " [[ 0.1162634  -0.10776477 -0.10739899  0.04095112  0.02725151]\n",
      "  [ 0.04670044  0.02933196  0.0411589   0.02321654  0.13575183]\n",
      "  [-0.1166773   0.0612991   0.16701959  0.05474616 -0.03738107]\n",
      "  [ 0.07327447 -0.04063617  0.08214389  0.06901398 -0.06808293]\n",
      "  [ 0.0829445   0.04473937 -0.06808964  0.00028175  0.06796241]]]\n"
     ]
    },
    {
     "data": {
      "image/png": "[encoded data removed]",
      "text/plain": [
       "<Figure size 432x288 with 1 Axes>"
      ]
     },
     "metadata": {
      "needs_background": "light"
     },
     "output_type": "display_data"
    },
    {
     "name": "stdout",
     "output_type": "stream",
     "text": [
      "(6, 5, 5)\n",
      "[[[-0.082399   -0.02943372 -0.11120032 -0.11290684  0.06347191]\n",
      "  [-0.14303927 -0.08340541 -0.01543769  0.0705279  -0.0422161 ]\n",
      "  [ 0.02512023  0.06558835  0.07616118  0.08966543  0.04112116]\n",
      "  [-0.04866935  0.07875577 -0.03702222  0.10869304 -0.0596798 ]\n",
      "  [ 0.01822454  0.03296437  0.03924222  0.02299555  0.02092995]]\n",
      "\n",
      " [[-0.02671723  0.09642963  0.07506031  0.07637491  0.12661834]\n",
      "  [ 0.03904698 -0.09842599  0.10166154 -0.05333718 -0.02864949]\n",
      "  [ 0.06510792  0.02518512  0.00876605 -0.07031026 -0.03898498]\n",
      "  [ 0.07004245  0.09683317 -0.02059724 -0.05988034  0.02739159]\n",
      "  [-0.12717888 -0.00060203 -0.08288679 -0.08756775 -0.03744069]]\n",
      "\n",
      " [[-0.13150686  0.0262764   0.05441611 -0.07443006 -0.02801782]\n",
      "  [-0.04495785 -0.09457627 -0.08174521  0.04965512 -0.08396797]\n",
      "  [-0.02754827  0.03272248 -0.07220585  0.0056936  -0.10503725]\n",
      "  [ 0.02991881  0.08669484 -0.09403723 -0.00704289  0.04761336]\n",
      "  [-0.08244632  0.04849975  0.04864232 -0.04222318 -0.06115617]]\n",
      "\n",
      " [[-0.14982294 -0.08233986 -0.06146248  0.065486    0.00151705]\n",
      "  [-0.06073671  0.09095584 -0.02775447  0.08298931  0.02947307]\n",
      "  [-0.03719441 -0.08605068 -0.01369578  0.04393517 -0.07317717]\n",
      "  [ 0.10824519  0.03360594  0.05207928  0.01386033  0.00525292]\n",
      "  [ 0.10679618 -0.09233267 -0.0475462  -0.10980351 -0.07680666]]\n",
      "\n",
      " [[-0.10755543 -0.10557915 -0.09120639 -0.02372108 -0.02839152]\n",
      "  [-0.00930993 -0.02613138  0.03085952  0.07720532  0.08827171]\n",
      "  [ 0.09716551  0.04534553  0.08807828 -0.06550526 -0.01769942]\n",
      "  [ 0.07593351 -0.03995758 -0.02049528  0.04132974  0.03868347]\n",
      "  [ 0.07911636  0.06497046 -0.07083493  0.06898171  0.07151077]]\n",
      "\n",
      " [[-0.10346103 -0.05867711 -0.02277109  0.03142311 -0.11835542]\n",
      "  [ 0.05891918 -0.03547727  0.05240808 -0.0118502  -0.05289758]\n",
      "  [-0.06488989  0.08375505  0.0978917  -0.05404965 -0.02206557]\n",
      "  [ 0.05090555 -0.0689535   0.03897183  0.01724166  0.03237617]\n",
      "  [ 0.10030235 -0.05519897 -0.03241808  0.01182708 -0.12247226]]]\n"
     ]
    },
    {
     "data": {
      "image/png": "[encoded data removed]",
      "text/plain": [
       "<Figure size 432x288 with 1 Axes>"
      ]
     },
     "metadata": {
      "needs_background": "light"
     },
     "output_type": "display_data"
    },
    {
     "name": "stdout",
     "output_type": "stream",
     "text": [
      "(6, 5, 5)\n",
      "[[[-0.04767318  0.08385707  0.11828507  0.06548903  0.10136069]\n",
      "  [ 0.03230121  0.00070014  0.12629181  0.10054971 -0.04364024]\n",
      "  [ 0.05919894 -0.01700642 -0.08696898  0.09835085  0.00230962]\n",
      "  [-0.00868428 -0.09777176 -0.01868918  0.14704326  0.08338601]\n",
      "  [-0.05685626  0.03573712  0.12979516 -0.0029068   0.05974228]]\n",
      "\n",
      " [[ 0.05999631 -0.0468473   0.05810098  0.09141221  0.00020002]\n",
      "  [ 0.03795033  0.11579771 -0.0236532   0.05517744 -0.10110757]\n",
      "  [ 0.01776787  0.07920317 -0.03982186  0.00641646  0.02549621]\n",
      "  [ 0.07611777  0.08184587  0.0992645   0.02207316 -0.07783614]\n",
      "  [-0.01034702 -0.03726183  0.00081827 -0.01426378 -0.06672822]]\n",
      "\n",
      " [[-0.0486154   0.00469451 -0.0681731  -0.01233375 -0.0721335 ]\n",
      "  [ 0.0522613   0.00772331 -0.00412341 -0.01021447 -0.03640338]\n",
      "  [-0.04096338 -0.07120344  0.09226397  0.00809224  0.0452752 ]\n",
      "  [ 0.0619748   0.09013417  0.12832578  0.03941906  0.08848765]\n",
      "  [-0.02462845  0.03865574 -0.01798327  0.09099106 -0.07725969]]\n",
      "\n",
      " [[-0.02980203 -0.01135021  0.06309623 -0.03975868  0.08971639]\n",
      "  [ 0.05209856  0.05769116 -0.00269068  0.05789582  0.06164419]\n",
      "  [ 0.11494613  0.02481873  0.03447552  0.06665319  0.01462469]\n",
      "  [ 0.08913494  0.06932416 -0.00475716  0.10058855  0.11984968]\n",
      "  [ 0.10239828 -0.01380176 -0.05780764  0.11259452 -0.01013723]]\n",
      "\n",
      " [[ 0.09757637  0.1180789   0.11608014  0.05506092  0.07046855]\n",
      "  [-0.01457855 -0.01308169  0.14136311 -0.03995165  0.03316184]\n",
      "  [ 0.09855992 -0.00148687  0.04018692 -0.00755996  0.01482359]\n",
      "  [-0.07894146  0.08698348  0.10409694  0.03821594  0.09730617]\n",
      "  [ 0.07542071 -0.08524065  0.04451976 -0.02250132 -0.07440169]]\n",
      "\n",
      " [[-0.05165307  0.02268161  0.0572662   0.03128364  0.06316494]\n",
      "  [-0.11466453  0.07571846 -0.03241565  0.11926566  0.06247083]\n",
      "  [ 0.06227631  0.02867656  0.07823805 -0.00767746  0.06930126]\n",
      "  [ 0.10073699 -0.0631668   0.07942265  0.01032784 -0.0335576 ]\n",
      "  [ 0.02845654  0.01187482  0.04395929 -0.01882221  0.0532729 ]]]\n"
     ]
    },
    {
     "data": {
      "image/png": "[encoded data removed]",
      "text/plain": [
       "<Figure size 432x288 with 1 Axes>"
      ]
     },
     "metadata": {
      "needs_background": "light"
     },
     "output_type": "display_data"
    },
    {
     "name": "stdout",
     "output_type": "stream",
     "text": [
      "(6, 5, 5)\n",
      "[[[-4.78288271e-02 -1.89008832e-01 -1.23297393e-01  6.44217357e-02\n",
      "    6.44131983e-03]\n",
      "  [-4.40890938e-02 -7.26808235e-02 -1.07573263e-01  4.20761257e-02\n",
      "    3.68789099e-02]\n",
      "  [ 2.85380520e-02 -8.80535841e-02 -7.60105029e-02  8.13563615e-02\n",
      "   -5.91612654e-03]\n",
      "  [ 4.23967354e-02  4.34798300e-02  1.18310936e-01  9.62026194e-02\n",
      "   -4.62399144e-03]\n",
      "  [-2.13931892e-02 -3.88614722e-02  1.33466840e-01  2.14802753e-02\n",
      "    6.52156845e-02]]\n",
      "\n",
      " [[ 3.75942327e-05 -3.77032943e-02 -6.85831532e-02 -1.08948737e-01\n",
      "    3.76064628e-02]\n",
      "  [ 9.77571011e-02  7.91814551e-03  4.89810333e-02  8.17548949e-03\n",
      "    6.22089878e-02]\n",
      "  [ 3.95161733e-02  3.63548356e-03  4.15264571e-04 -7.78639168e-02\n",
      "   -1.10465288e-01]\n",
      "  [-4.37097847e-02 -1.38118014e-01 -1.05905928e-01 -3.88609655e-02\n",
      "   -1.64336469e-02]\n",
      "  [-1.25971241e-02  6.03308901e-03 -5.44525608e-02  3.76342535e-02\n",
      "    7.93277919e-02]]\n",
      "\n",
      " [[-1.17776245e-01  6.80679083e-02  1.24695197e-01  1.23913720e-01\n",
      "    7.77043924e-02]\n",
      "  [ 1.73273776e-02 -3.58227268e-02 -5.61789088e-02 -5.74480444e-02\n",
      "   -2.97961179e-02]\n",
      "  [-4.27833423e-02  7.30920807e-02  2.50744522e-02  1.32560628e-02\n",
      "   -1.22829206e-01]\n",
      "  [-4.60272543e-02  2.35788580e-02  3.74238044e-02 -1.05666809e-01\n",
      "   -1.34072334e-01]\n",
      "  [-1.16355084e-02 -6.39349073e-02  1.02263764e-01  4.86611389e-02\n",
      "    8.04259703e-02]]\n",
      "\n",
      " [[ 3.96347418e-02 -1.94343273e-02  4.01953934e-03  1.02644786e-01\n",
      "   -4.90100309e-02]\n",
      "  [-5.73080629e-02  7.85483941e-02 -1.12842629e-02 -6.62746578e-02\n",
      "    7.57806376e-02]\n",
      "  [-5.94247356e-02  1.10239930e-01  8.41015577e-02  7.23428726e-02\n",
      "    7.16434605e-03]\n",
      "  [-5.92851676e-02  7.98168108e-02  4.84088995e-02 -7.88202658e-02\n",
      "   -1.39303043e-01]\n",
      "  [-1.24561034e-01  1.22130373e-02 -1.30991191e-01  4.85253520e-02\n",
      "    1.96898039e-02]]\n",
      "\n",
      " [[-1.54900840e-02  3.29190157e-02  4.94784527e-02  8.02175477e-02\n",
      "    5.00869863e-02]\n",
      "  [-3.15881222e-02  8.85640904e-02 -4.89379317e-02  1.23205751e-01\n",
      "    8.86204885e-04]\n",
      "  [-3.69602554e-02  1.75834782e-02 -4.60366979e-02  2.41787806e-02\n",
      "    2.05476973e-02]\n",
      "  [-1.30202577e-01 -1.26463817e-02  2.06666552e-02 -8.98239613e-02\n",
      "   -3.46198119e-02]\n",
      "  [-1.51986822e-01  7.11522475e-02 -3.89571041e-02 -1.25544786e-01\n",
      "   -1.09254584e-01]]\n",
      "\n",
      " [[-9.72410589e-02 -1.00175165e-01 -2.02502925e-02  4.67792116e-02\n",
      "   -2.38709617e-02]\n",
      "  [-2.72426829e-02 -1.10485047e-01  9.96176600e-02  1.31017998e-01\n",
      "    1.37384847e-01]\n",
      "  [ 9.55081433e-02 -3.30331922e-02  5.58294989e-02  1.08497664e-01\n",
      "    1.16960406e-01]\n",
      "  [ 5.54008670e-02  6.89541325e-02  1.15008287e-01  9.40922201e-02\n",
      "   -4.13040631e-02]\n",
      "  [-7.25761503e-02 -5.21763489e-02  1.11414246e-01 -1.08898424e-01\n",
      "   -1.18481159e-01]]]\n"
     ]
    },
    {
     "data": {
      "image/png": "[encoded data removed]",
      "text/plain": [
       "<Figure size 432x288 with 1 Axes>"
      ]
     },
     "metadata": {
      "needs_background": "light"
     },
     "output_type": "display_data"
    }
   ],
   "source": [
    "for i in range(1):\n",
    "    results = [conv_layers[0](test_x[i,:,:,:].unsqueeze(0))]\n",
    "    for i in range(1, len(conv_layers)):\n",
    "        results.append(conv_layers[i](results[-1]))\n",
    "        weights.append(conv_layers[i].weight)\n",
    "    outputs = results\n",
    "    for num_layer in range(len(outputs)):\n",
    "        plt.figure(figsize=(50, 10))\n",
    "        layer_viz = outputs[num_layer][0, :, :, :]\n",
    "        layer_viz = layer_viz.data\n",
    "        print(\"Layer \",num_layer+1)\n",
    "        for i, filter in enumerate(layer_viz):\n",
    "            if i == 16: \n",
    "                break\n",
    "            weight = conv_layers[num_layer].weight[i].detach().numpy()\n",
    "            print(weight.shape)\n",
    "            print(weight)\n",
    "#             plt.subplot(2, 8, i + 1)\n",
    "            plt.imshow(filter, cmap='gray')\n",
    "            plt.axis(\"off\")\n",
    "            plt.show()\n",
    "#         plt.show()\n",
    "        plt.close()"
   ]
  },
  {
   "cell_type": "code",
   "execution_count": 90,
   "id": "isolated-position",
   "metadata": {},
   "outputs": [
    {
     "name": "stdout",
     "output_type": "stream",
     "text": [
      "tensor([[[ 0.1910, -0.0262, -0.1645, -0.4781, -0.3326],\n",
      "         [ 0.0278,  0.2788, -0.0362, -0.3170, -0.2326],\n",
      "         [ 0.1017,  0.0726,  0.1810,  0.1756,  0.1269],\n",
      "         [ 0.1194,  0.0939,  0.2228,  0.0723, -0.1671],\n",
      "         [ 0.0921,  0.1719, -0.1078,  0.1297,  0.0731]]],\n",
      "       grad_fn=<SelectBackward>)\n"
     ]
    }
   ],
   "source": [
    "print(conv_layers[0].weight[0])"
   ]
  },
  {
   "cell_type": "code",
   "execution_count": 118,
   "id": "uniform-disability",
   "metadata": {},
   "outputs": [
    {
     "data": {
      "text/plain": [
       "tensor([[[[ 1.7738e-01, -6.5243e-02, -1.9422e-01,  1.8597e-02, -5.8416e-02],\n",
       "          [ 1.0886e-01, -2.0459e-01, -1.9887e-01, -4.7125e-02,  8.7662e-02],\n",
       "          [-1.9368e-02, -2.8483e-02,  2.2425e-02,  9.3239e-02,  8.8076e-02],\n",
       "          [-6.7949e-02, -5.4392e-02,  2.2556e-02,  9.7150e-02,  5.6065e-03],\n",
       "          [-1.7895e-02, -1.1158e-01,  5.6081e-02,  1.0869e-01,  1.1802e-01]],\n",
       "\n",
       "         [[ 5.9942e-02, -1.0611e-01,  9.6024e-03, -9.2655e-02,  8.3415e-02],\n",
       "          [ 2.1267e-02, -1.2369e-02,  8.0235e-02, -5.0741e-02,  4.3236e-02],\n",
       "          [-2.1517e-02,  7.5617e-03, -1.0190e-01,  2.3149e-02, -1.8826e-02],\n",
       "          [-1.7167e-02, -2.1651e-02, -4.3172e-02, -6.2324e-02,  8.9886e-03],\n",
       "          [-5.2803e-04, -9.4909e-02, -5.8342e-03, -1.1648e-01,  3.7016e-02]],\n",
       "\n",
       "         [[ 8.6958e-02, -1.6006e-01, -4.3538e-02,  1.1035e-01,  6.8773e-02],\n",
       "          [-2.4051e-02, -1.4667e-01,  1.6919e-01,  1.6387e-01, -5.7115e-02],\n",
       "          [-1.6954e-01, -6.1880e-02,  1.6785e-02,  1.1417e-01, -2.0286e-02],\n",
       "          [-1.3760e-02,  1.1212e-01,  3.7735e-02,  5.2103e-02, -1.2236e-01],\n",
       "          [ 1.0063e-01,  3.7024e-02,  1.0754e-01,  9.6627e-02,  5.8169e-02]],\n",
       "\n",
       "         [[-6.7513e-02,  8.2756e-02, -5.2317e-02,  3.8102e-02, -5.9525e-02],\n",
       "          [-9.3711e-02,  2.0928e-02, -3.4271e-02,  3.5947e-02,  1.0941e-02],\n",
       "          [ 1.3221e-02, -1.6120e-01, -2.8078e-02, -2.2919e-02,  5.2159e-02],\n",
       "          [-6.6095e-03,  6.7481e-02,  3.1393e-02, -8.6597e-02, -9.9856e-02],\n",
       "          [ 1.9648e-02,  3.3050e-02,  6.8656e-02, -1.1857e-02,  2.2837e-02]],\n",
       "\n",
       "         [[ 4.5438e-02, -1.3433e-01, -2.6248e-02,  2.9480e-03,  1.4037e-01],\n",
       "          [-1.4544e-01, -2.1045e-01,  4.5929e-02,  1.1756e-01, -8.3688e-02],\n",
       "          [-7.8066e-02, -1.3452e-03,  1.7295e-01,  5.2851e-02,  4.1690e-02],\n",
       "          [ 1.5895e-02, -9.6348e-03,  1.1286e-01, -2.5788e-02, -1.2477e-01],\n",
       "          [ 9.9448e-02,  9.9746e-02,  9.7496e-02, -2.4111e-02, -9.3403e-02]],\n",
       "\n",
       "         [[ 6.2873e-02,  4.7744e-02, -5.7634e-02,  4.2732e-02,  4.3783e-02],\n",
       "          [ 2.4619e-02, -1.3127e-01, -5.4477e-02,  1.3290e-01,  6.9531e-02],\n",
       "          [ 1.3826e-01, -2.4249e-01, -2.2893e-02,  1.3799e-01,  8.4056e-02],\n",
       "          [-6.6197e-02, -1.3781e-01,  1.1880e-01,  3.2299e-02, -5.7045e-02],\n",
       "          [-1.0099e-01, -7.4833e-02, -3.0246e-02,  5.8121e-02, -4.3214e-02]]],\n",
       "\n",
       "\n",
       "        [[[-4.6100e-02,  2.1112e-02,  1.0095e-01,  5.3486e-02,  7.7640e-02],\n",
       "          [ 1.4216e-01,  1.3110e-01,  1.0768e-01,  1.0108e-01,  8.3344e-02],\n",
       "          [ 2.5665e-02, -6.7961e-02,  1.3817e-01,  1.3371e-01,  1.0187e-01],\n",
       "          [-1.1313e-01, -3.9811e-02, -2.3381e-03,  1.5037e-01,  5.4929e-02],\n",
       "          [ 1.4291e-01,  7.6637e-02, -2.1908e-01, -5.6050e-02,  1.2617e-01]],\n",
       "\n",
       "         [[ 1.8214e-02,  2.0038e-01,  1.3719e-01,  5.0126e-02, -9.3033e-03],\n",
       "          [ 3.5853e-03,  1.8821e-01,  7.3760e-02, -7.1491e-02, -3.4535e-02],\n",
       "          [-9.5831e-02, -2.2293e-02, -6.0903e-02, -1.1250e-01,  1.9060e-03],\n",
       "          [-4.4844e-02, -1.1556e-01, -1.5771e-01, -1.7001e-02,  3.7880e-02],\n",
       "          [ 2.7653e-01,  1.0841e-01, -5.9305e-02, -1.2688e-01, -9.3129e-02]],\n",
       "\n",
       "         [[ 7.4425e-02, -1.3786e-02, -6.3221e-03, -6.0401e-02,  1.7905e-02],\n",
       "          [ 2.7626e-02,  7.5752e-02,  7.0526e-02,  7.5287e-02,  1.1356e-01],\n",
       "          [-1.7360e-01, -1.6182e-01,  4.5327e-02,  7.5313e-02,  1.1479e-01],\n",
       "          [-6.0195e-02, -7.6839e-02, -1.2383e-01, -6.3648e-02,  1.9865e-02],\n",
       "          [-1.3463e-02, -1.2777e-01, -1.1265e-01,  4.9459e-02, -1.0533e-01]],\n",
       "\n",
       "         [[ 8.7412e-02,  6.4736e-02,  9.8211e-02, -8.4612e-02, -3.7659e-04],\n",
       "          [ 1.3868e-01,  5.9103e-03,  5.1067e-02,  1.1112e-01,  9.8189e-03],\n",
       "          [-8.4545e-02,  4.5009e-02,  1.0270e-01,  4.5259e-03, -7.9843e-02],\n",
       "          [-1.6698e-01, -8.2904e-02,  1.4039e-02, -2.2580e-02,  5.8795e-02],\n",
       "          [ 3.8693e-02, -1.4366e-01,  2.8609e-02, -1.1701e-01,  4.4608e-02]],\n",
       "\n",
       "         [[-1.8054e-02,  7.6397e-02,  5.3245e-02, -3.8997e-02, -8.0951e-02],\n",
       "          [ 7.7145e-02,  1.0174e-01,  7.6645e-04,  7.2593e-02,  1.2204e-02],\n",
       "          [-9.4068e-02, -1.1156e-01,  6.2595e-02,  4.8936e-02,  7.9265e-02],\n",
       "          [-1.7720e-01, -1.3567e-01,  4.5878e-03, -4.7568e-02,  6.2995e-02],\n",
       "          [ 4.8552e-03, -7.1707e-02, -1.4396e-01, -5.9660e-02,  1.5288e-02]],\n",
       "\n",
       "         [[-3.2457e-02,  3.1797e-02,  5.1212e-02, -6.2652e-03,  8.2858e-03],\n",
       "          [ 7.5401e-02,  9.7834e-02, -3.1310e-02,  1.2097e-03, -1.2085e-02],\n",
       "          [ 1.1035e-02,  1.2812e-01, -1.9052e-02,  5.5252e-02,  6.8992e-02],\n",
       "          [-1.3752e-01, -1.8603e-02, -7.4631e-02, -7.3642e-02,  9.9606e-02],\n",
       "          [-7.9391e-02, -8.6772e-02,  1.6169e-04,  3.2983e-02,  3.3145e-02]]],\n",
       "\n",
       "\n",
       "        [[[-9.7829e-02, -6.6600e-02,  8.7871e-02,  1.7837e-01,  1.2649e-01],\n",
       "          [ 5.5297e-02, -3.4483e-02,  1.4608e-01,  2.1270e-01,  1.0972e-01],\n",
       "          [ 3.5896e-02, -6.1790e-02, -3.8198e-02,  1.7910e-01,  1.5220e-01],\n",
       "          [-2.0513e-02, -6.3750e-02, -2.8987e-02,  2.5142e-02, -1.1736e-01],\n",
       "          [-8.6934e-02,  2.0727e-02,  1.9890e-02, -4.1750e-02, -1.3737e-01]],\n",
       "\n",
       "         [[-5.5550e-02, -5.8123e-02, -7.6705e-02,  1.0788e-01, -4.0968e-03],\n",
       "          [-4.3635e-02,  6.1636e-02, -7.6023e-02,  9.1448e-02,  6.3735e-02],\n",
       "          [ 1.4882e-01,  6.6822e-02,  9.6155e-02,  1.5167e-02,  4.1491e-02],\n",
       "          [-2.1967e-02, -9.6803e-02, -5.8455e-02,  4.7124e-02, -5.7837e-02],\n",
       "          [-1.1625e-01, -1.2947e-01,  5.5251e-02,  1.3660e-01,  3.0825e-02]],\n",
       "\n",
       "         [[ 2.2593e-02,  8.8470e-02,  4.3522e-02,  1.3841e-01,  5.2959e-02],\n",
       "          [-1.5634e-02,  1.0067e-01,  8.6197e-02,  1.1136e-01,  3.9749e-02],\n",
       "          [ 1.3852e-02, -4.0430e-03, -1.0811e-02,  6.4313e-02,  3.1169e-02],\n",
       "          [-1.1681e-01,  4.4668e-03, -1.0234e-01, -1.4905e-01, -8.9502e-02],\n",
       "          [-1.0135e-01,  2.7473e-03, -7.4125e-02, -1.7928e-02,  5.3971e-02]],\n",
       "\n",
       "         [[-8.1215e-02,  1.8048e-02,  8.3205e-02,  1.2421e-02,  3.4764e-02],\n",
       "          [ 7.8362e-03,  8.3271e-02,  1.2485e-01,  1.2785e-01,  7.7418e-02],\n",
       "          [ 1.0478e-01,  3.9487e-02, -3.6455e-02,  7.9877e-02, -5.3369e-02],\n",
       "          [ 8.6437e-02,  6.8266e-02,  2.8444e-03,  3.1420e-03, -4.9325e-02],\n",
       "          [-1.3689e-01, -1.5356e-01, -2.8930e-02, -1.3441e-01, -2.6118e-02]],\n",
       "\n",
       "         [[ 9.7667e-03,  5.6278e-02,  2.6309e-02, -4.2982e-02, -5.6106e-02],\n",
       "          [ 3.7615e-02,  8.0238e-02,  1.3395e-01, -3.7936e-03,  5.7730e-02],\n",
       "          [ 7.7170e-02, -7.9222e-02, -6.0960e-02,  2.2792e-02,  4.8255e-02],\n",
       "          [-2.5352e-02, -8.9835e-02, -1.5315e-01, -1.0650e-01, -1.6657e-01],\n",
       "          [-1.6052e-01, -6.6116e-02, -1.2517e-01, -2.0615e-02, -7.8176e-03]],\n",
       "\n",
       "         [[-1.0173e-01,  1.1093e-02, -6.8308e-02,  8.4334e-02, -8.6750e-02],\n",
       "          [-3.0632e-02, -1.0398e-01,  9.0422e-02, -3.2566e-02, -3.6946e-02],\n",
       "          [ 2.4490e-02,  1.5514e-01,  2.1992e-02,  8.0906e-02, -4.8992e-02],\n",
       "          [ 8.5567e-02,  6.9927e-02,  5.3231e-02, -2.3681e-02,  6.2566e-02],\n",
       "          [ 5.0019e-02, -9.8021e-02, -6.1645e-02, -8.1049e-02, -2.8281e-02]]],\n",
       "\n",
       "\n",
       "        ...,\n",
       "\n",
       "\n",
       "        [[[-8.2399e-02, -2.9434e-02, -1.1120e-01, -1.1291e-01,  6.3472e-02],\n",
       "          [-1.4304e-01, -8.3405e-02, -1.5438e-02,  7.0528e-02, -4.2216e-02],\n",
       "          [ 2.5120e-02,  6.5588e-02,  7.6161e-02,  8.9665e-02,  4.1121e-02],\n",
       "          [-4.8669e-02,  7.8756e-02, -3.7022e-02,  1.0869e-01, -5.9680e-02],\n",
       "          [ 1.8225e-02,  3.2964e-02,  3.9242e-02,  2.2996e-02,  2.0930e-02]],\n",
       "\n",
       "         [[-2.6717e-02,  9.6430e-02,  7.5060e-02,  7.6375e-02,  1.2662e-01],\n",
       "          [ 3.9047e-02, -9.8426e-02,  1.0166e-01, -5.3337e-02, -2.8649e-02],\n",
       "          [ 6.5108e-02,  2.5185e-02,  8.7661e-03, -7.0310e-02, -3.8985e-02],\n",
       "          [ 7.0042e-02,  9.6833e-02, -2.0597e-02, -5.9880e-02,  2.7392e-02],\n",
       "          [-1.2718e-01, -6.0203e-04, -8.2887e-02, -8.7568e-02, -3.7441e-02]],\n",
       "\n",
       "         [[-1.3151e-01,  2.6276e-02,  5.4416e-02, -7.4430e-02, -2.8018e-02],\n",
       "          [-4.4958e-02, -9.4576e-02, -8.1745e-02,  4.9655e-02, -8.3968e-02],\n",
       "          [-2.7548e-02,  3.2722e-02, -7.2206e-02,  5.6936e-03, -1.0504e-01],\n",
       "          [ 2.9919e-02,  8.6695e-02, -9.4037e-02, -7.0429e-03,  4.7613e-02],\n",
       "          [-8.2446e-02,  4.8500e-02,  4.8642e-02, -4.2223e-02, -6.1156e-02]],\n",
       "\n",
       "         [[-1.4982e-01, -8.2340e-02, -6.1462e-02,  6.5486e-02,  1.5171e-03],\n",
       "          [-6.0737e-02,  9.0956e-02, -2.7754e-02,  8.2989e-02,  2.9473e-02],\n",
       "          [-3.7194e-02, -8.6051e-02, -1.3696e-02,  4.3935e-02, -7.3177e-02],\n",
       "          [ 1.0825e-01,  3.3606e-02,  5.2079e-02,  1.3860e-02,  5.2529e-03],\n",
       "          [ 1.0680e-01, -9.2333e-02, -4.7546e-02, -1.0980e-01, -7.6807e-02]],\n",
       "\n",
       "         [[-1.0756e-01, -1.0558e-01, -9.1206e-02, -2.3721e-02, -2.8392e-02],\n",
       "          [-9.3099e-03, -2.6131e-02,  3.0860e-02,  7.7205e-02,  8.8272e-02],\n",
       "          [ 9.7166e-02,  4.5346e-02,  8.8078e-02, -6.5505e-02, -1.7699e-02],\n",
       "          [ 7.5934e-02, -3.9958e-02, -2.0495e-02,  4.1330e-02,  3.8683e-02],\n",
       "          [ 7.9116e-02,  6.4970e-02, -7.0835e-02,  6.8982e-02,  7.1511e-02]],\n",
       "\n",
       "         [[-1.0346e-01, -5.8677e-02, -2.2771e-02,  3.1423e-02, -1.1836e-01],\n",
       "          [ 5.8919e-02, -3.5477e-02,  5.2408e-02, -1.1850e-02, -5.2898e-02],\n",
       "          [-6.4890e-02,  8.3755e-02,  9.7892e-02, -5.4050e-02, -2.2066e-02],\n",
       "          [ 5.0906e-02, -6.8953e-02,  3.8972e-02,  1.7242e-02,  3.2376e-02],\n",
       "          [ 1.0030e-01, -5.5199e-02, -3.2418e-02,  1.1827e-02, -1.2247e-01]]],\n",
       "\n",
       "\n",
       "        [[[-4.7673e-02,  8.3857e-02,  1.1829e-01,  6.5489e-02,  1.0136e-01],\n",
       "          [ 3.2301e-02,  7.0014e-04,  1.2629e-01,  1.0055e-01, -4.3640e-02],\n",
       "          [ 5.9199e-02, -1.7006e-02, -8.6969e-02,  9.8351e-02,  2.3096e-03],\n",
       "          [-8.6843e-03, -9.7772e-02, -1.8689e-02,  1.4704e-01,  8.3386e-02],\n",
       "          [-5.6856e-02,  3.5737e-02,  1.2980e-01, -2.9068e-03,  5.9742e-02]],\n",
       "\n",
       "         [[ 5.9996e-02, -4.6847e-02,  5.8101e-02,  9.1412e-02,  2.0002e-04],\n",
       "          [ 3.7950e-02,  1.1580e-01, -2.3653e-02,  5.5177e-02, -1.0111e-01],\n",
       "          [ 1.7768e-02,  7.9203e-02, -3.9822e-02,  6.4165e-03,  2.5496e-02],\n",
       "          [ 7.6118e-02,  8.1846e-02,  9.9264e-02,  2.2073e-02, -7.7836e-02],\n",
       "          [-1.0347e-02, -3.7262e-02,  8.1827e-04, -1.4264e-02, -6.6728e-02]],\n",
       "\n",
       "         [[-4.8615e-02,  4.6945e-03, -6.8173e-02, -1.2334e-02, -7.2134e-02],\n",
       "          [ 5.2261e-02,  7.7233e-03, -4.1234e-03, -1.0214e-02, -3.6403e-02],\n",
       "          [-4.0963e-02, -7.1203e-02,  9.2264e-02,  8.0922e-03,  4.5275e-02],\n",
       "          [ 6.1975e-02,  9.0134e-02,  1.2833e-01,  3.9419e-02,  8.8488e-02],\n",
       "          [-2.4628e-02,  3.8656e-02, -1.7983e-02,  9.0991e-02, -7.7260e-02]],\n",
       "\n",
       "         [[-2.9802e-02, -1.1350e-02,  6.3096e-02, -3.9759e-02,  8.9716e-02],\n",
       "          [ 5.2099e-02,  5.7691e-02, -2.6907e-03,  5.7896e-02,  6.1644e-02],\n",
       "          [ 1.1495e-01,  2.4819e-02,  3.4476e-02,  6.6653e-02,  1.4625e-02],\n",
       "          [ 8.9135e-02,  6.9324e-02, -4.7572e-03,  1.0059e-01,  1.1985e-01],\n",
       "          [ 1.0240e-01, -1.3802e-02, -5.7808e-02,  1.1259e-01, -1.0137e-02]],\n",
       "\n",
       "         [[ 9.7576e-02,  1.1808e-01,  1.1608e-01,  5.5061e-02,  7.0469e-02],\n",
       "          [-1.4579e-02, -1.3082e-02,  1.4136e-01, -3.9952e-02,  3.3162e-02],\n",
       "          [ 9.8560e-02, -1.4869e-03,  4.0187e-02, -7.5600e-03,  1.4824e-02],\n",
       "          [-7.8941e-02,  8.6983e-02,  1.0410e-01,  3.8216e-02,  9.7306e-02],\n",
       "          [ 7.5421e-02, -8.5241e-02,  4.4520e-02, -2.2501e-02, -7.4402e-02]],\n",
       "\n",
       "         [[-5.1653e-02,  2.2682e-02,  5.7266e-02,  3.1284e-02,  6.3165e-02],\n",
       "          [-1.1466e-01,  7.5718e-02, -3.2416e-02,  1.1927e-01,  6.2471e-02],\n",
       "          [ 6.2276e-02,  2.8677e-02,  7.8238e-02, -7.6775e-03,  6.9301e-02],\n",
       "          [ 1.0074e-01, -6.3167e-02,  7.9423e-02,  1.0328e-02, -3.3558e-02],\n",
       "          [ 2.8457e-02,  1.1875e-02,  4.3959e-02, -1.8822e-02,  5.3273e-02]]],\n",
       "\n",
       "\n",
       "        [[[-4.7829e-02, -1.8901e-01, -1.2330e-01,  6.4422e-02,  6.4413e-03],\n",
       "          [-4.4089e-02, -7.2681e-02, -1.0757e-01,  4.2076e-02,  3.6879e-02],\n",
       "          [ 2.8538e-02, -8.8054e-02, -7.6011e-02,  8.1356e-02, -5.9161e-03],\n",
       "          [ 4.2397e-02,  4.3480e-02,  1.1831e-01,  9.6203e-02, -4.6240e-03],\n",
       "          [-2.1393e-02, -3.8861e-02,  1.3347e-01,  2.1480e-02,  6.5216e-02]],\n",
       "\n",
       "         [[ 3.7594e-05, -3.7703e-02, -6.8583e-02, -1.0895e-01,  3.7606e-02],\n",
       "          [ 9.7757e-02,  7.9181e-03,  4.8981e-02,  8.1755e-03,  6.2209e-02],\n",
       "          [ 3.9516e-02,  3.6355e-03,  4.1526e-04, -7.7864e-02, -1.1047e-01],\n",
       "          [-4.3710e-02, -1.3812e-01, -1.0591e-01, -3.8861e-02, -1.6434e-02],\n",
       "          [-1.2597e-02,  6.0331e-03, -5.4453e-02,  3.7634e-02,  7.9328e-02]],\n",
       "\n",
       "         [[-1.1778e-01,  6.8068e-02,  1.2470e-01,  1.2391e-01,  7.7704e-02],\n",
       "          [ 1.7327e-02, -3.5823e-02, -5.6179e-02, -5.7448e-02, -2.9796e-02],\n",
       "          [-4.2783e-02,  7.3092e-02,  2.5074e-02,  1.3256e-02, -1.2283e-01],\n",
       "          [-4.6027e-02,  2.3579e-02,  3.7424e-02, -1.0567e-01, -1.3407e-01],\n",
       "          [-1.1636e-02, -6.3935e-02,  1.0226e-01,  4.8661e-02,  8.0426e-02]],\n",
       "\n",
       "         [[ 3.9635e-02, -1.9434e-02,  4.0195e-03,  1.0264e-01, -4.9010e-02],\n",
       "          [-5.7308e-02,  7.8548e-02, -1.1284e-02, -6.6275e-02,  7.5781e-02],\n",
       "          [-5.9425e-02,  1.1024e-01,  8.4102e-02,  7.2343e-02,  7.1643e-03],\n",
       "          [-5.9285e-02,  7.9817e-02,  4.8409e-02, -7.8820e-02, -1.3930e-01],\n",
       "          [-1.2456e-01,  1.2213e-02, -1.3099e-01,  4.8525e-02,  1.9690e-02]],\n",
       "\n",
       "         [[-1.5490e-02,  3.2919e-02,  4.9478e-02,  8.0218e-02,  5.0087e-02],\n",
       "          [-3.1588e-02,  8.8564e-02, -4.8938e-02,  1.2321e-01,  8.8620e-04],\n",
       "          [-3.6960e-02,  1.7583e-02, -4.6037e-02,  2.4179e-02,  2.0548e-02],\n",
       "          [-1.3020e-01, -1.2646e-02,  2.0667e-02, -8.9824e-02, -3.4620e-02],\n",
       "          [-1.5199e-01,  7.1152e-02, -3.8957e-02, -1.2554e-01, -1.0925e-01]],\n",
       "\n",
       "         [[-9.7241e-02, -1.0018e-01, -2.0250e-02,  4.6779e-02, -2.3871e-02],\n",
       "          [-2.7243e-02, -1.1049e-01,  9.9618e-02,  1.3102e-01,  1.3738e-01],\n",
       "          [ 9.5508e-02, -3.3033e-02,  5.5829e-02,  1.0850e-01,  1.1696e-01],\n",
       "          [ 5.5401e-02,  6.8954e-02,  1.1501e-01,  9.4092e-02, -4.1304e-02],\n",
       "          [-7.2576e-02, -5.2176e-02,  1.1141e-01, -1.0890e-01, -1.1848e-01]]]])"
      ]
     },
     "execution_count": 118,
     "metadata": {},
     "output_type": "execute_result"
    }
   ],
   "source": [
    "len(conv_layers[num_layer].weight[0]"
   ]
  },
  {
   "cell_type": "code",
   "execution_count": null,
   "id": "potential-federation",
   "metadata": {},
   "outputs": [],
   "source": []
  }
 ],
 "metadata": {
  "kernelspec": {
   "display_name": "Python 3",
   "language": "python",
   "name": "python3"
  },
  "language_info": {
   "codemirror_mode": {
    "name": "ipython",
    "version": 3
   },
   "file_extension": ".py",
   "mimetype": "text/x-python",
   "name": "python",
   "nbconvert_exporter": "python",
   "pygments_lexer": "ipython3",
   "version": "3.8.5"
  }
 },
 "nbformat": 4,
 "nbformat_minor": 5
}
