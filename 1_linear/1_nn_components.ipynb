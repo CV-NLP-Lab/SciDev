{
 "cells": [
  {
   "cell_type": "markdown",
   "id": "persistent-amendment",
   "metadata": {},
   "source": [
    "# Составляющие нейронной сети"
   ]
  },
  {
   "cell_type": "code",
   "execution_count": 1,
   "id": "corresponding-plaintiff",
   "metadata": {},
   "outputs": [],
   "source": [
    "import torch\n",
    "import pandas as pd\n",
    "from tqdm import trange"
   ]
  },
  {
   "cell_type": "markdown",
   "id": "driven-found",
   "metadata": {},
   "source": [
    "### 0. Инициализация генератора случайных чисел"
   ]
  },
  {
   "cell_type": "code",
   "execution_count": 2,
   "id": "coupled-creativity",
   "metadata": {},
   "outputs": [],
   "source": [
    "_ = torch.manual_seed(1)"
   ]
  },
  {
   "cell_type": "markdown",
   "id": "finite-saying",
   "metadata": {},
   "source": [
    "### 1. Данные\n",
    "Обучающая выборка для задачи классификации"
   ]
  },
  {
   "cell_type": "code",
   "execution_count": 9,
   "id": "japanese-wrist",
   "metadata": {},
   "outputs": [
    {
     "name": "stdout",
     "output_type": "stream",
     "text": [
      "Items: 4\n"
     ]
    }
   ],
   "source": [
    "def get_xor_data():\n",
    "    x = torch.tensor([[0, 0], [0, 1], [1, 0], [1, 1]], dtype=torch.float32)\n",
    "    y = torch.tensor([0, 1, 1, 0], dtype=torch.float32)\n",
    "    return x, y\n",
    "\n",
    "x, y = get_xor_data()\n",
    "print(f'Items: {len(x)}')"
   ]
  },
  {
   "cell_type": "markdown",
   "id": "established-winter",
   "metadata": {},
   "source": [
    "### 2. Функция потерь\n",
    "\n",
    "Эмпирический риск, оптимизируемый функционал, **objective**. Определяет задачу оптимизации, интерпретацию весов.\n",
    "\n",
    "Функция потерь измеряет отличие предсказанного значения от истинного.\n",
    "\n",
    "*mean* -- среднее значение функции потерь по обучающей выборке (эмпирический риск по определению).\n",
    "\n",
    "Минимизация эмперического риска --  принцип статистической теории обучения."
   ]
  },
  {
   "cell_type": "code",
   "execution_count": 10,
   "id": "expressed-tragedy",
   "metadata": {},
   "outputs": [],
   "source": [
    "loss_fn = torch.nn.MSELoss(reduction='mean')  #  none | mean | sum"
   ]
  },
  {
   "cell_type": "markdown",
   "id": "mechanical-ecuador",
   "metadata": {},
   "source": [
    "### 3. Архитектура нейронной сети, инициализация весов\n",
    "Определяет вид функции, связывающей входные и выходные данные"
   ]
  },
  {
   "cell_type": "code",
   "execution_count": 27,
   "id": "atomic-harassment",
   "metadata": {},
   "outputs": [
    {
     "name": "stdout",
     "output_type": "stream",
     "text": [
      "Model contains 9 parameters in 2 layers\n"
     ]
    }
   ],
   "source": [
    "def get_2_layer_model():\n",
    "    return torch.nn.Sequential(\n",
    "    torch.nn.Linear(in_features=2, out_features=2, bias=True),  # Полносвязный слой\n",
    "    torch.nn.Sigmoid(),                                         # Функция активации\n",
    "    torch.nn.Linear(2, 1),\n",
    "    torch.nn.Sigmoid(),\n",
    "    torch.nn.Flatten(start_dim=0, end_dim=1)\n",
    ")\n",
    "\n",
    "model = get_2_layer_model()\n",
    "n_params = sum(\n",
    "    [param.numel() for param in model.parameters()]\n",
    ")  # model.parameters() -- генератор\n",
    "n_trainable_layers = len(\n",
    "    [layer for layer in model if list(layer.parameters())]\n",
    ")\n",
    "print(f'Model contains {n_params} parameters in {n_trainable_layers} layers')"
   ]
  },
  {
   "cell_type": "markdown",
   "id": "attended-china",
   "metadata": {},
   "source": [
    "### 4. Метод оптимизации"
   ]
  },
  {
   "cell_type": "code",
   "execution_count": 28,
   "id": "present-worry",
   "metadata": {},
   "outputs": [],
   "source": [
    "optimizer = torch.optim.SGD(\n",
    "    model.parameters(),  # Оптимизируемые параметры\n",
    "    lr=3,               # Скорость обучения\n",
    "    weight_decay=0,      # Множитель L2 регуляризации\n",
    "    momentum=0,          # Величина момента инерции\n",
    "    dampening=0,         # ??? (Аммортизация момента?!  # TODO\n",
    "    nesterov=False       # Выбор метода вычисления момента [http://www.cs.toronto.edu/~hinton/absps/momentum.pdf]\n",
    ")"
   ]
  },
  {
   "cell_type": "markdown",
   "id": "august-accounting",
   "metadata": {},
   "source": [
    "### 5. Градиентный спуск с обратным распространением ошибки"
   ]
  },
  {
   "cell_type": "code",
   "execution_count": 38,
   "id": "personal-morning",
   "metadata": {},
   "outputs": [
    {
     "name": "stderr",
     "output_type": "stream",
     "text": [
      "100%|██████████████████████████████████████| 500/500 [00:00<00:00, 3056.93it/s]\n"
     ]
    }
   ],
   "source": [
    "n_epochs = 500                    # Количество эпох обучения\n",
    "loss_history = pd.Series(index=range(n_epochs), dtype=float)\n",
    "for i in trange(n_epochs):\n",
    "    pred = model(x)               # Прямой проход, вызов методов forward\n",
    "    loss = loss_fn(pred, y)       # Вычисление эмперического риска\n",
    "    loss_history[i] = loss\n",
    "    optimizer.zero_grad()         # Инициализация param.grad нулями (при обратном проходе они аккумулируются). Аналог: model.zero_grad()\n",
    "    loss.backward()               # Обратный проход: вычисление градиентов, вызов методов backward\n",
    "    optimizer.step(closure=None)  # Применение градиентов к весам сети"
   ]
  },
  {
   "cell_type": "code",
   "execution_count": 39,
   "id": "adult-macro",
   "metadata": {},
   "outputs": [
    {
     "name": "stdout",
     "output_type": "stream",
     "text": [
      "0     0.0006\n",
      "1     0.0006\n",
      "2     0.0006\n",
      "3     0.0006\n",
      "4     0.0006\n",
      "       ...  \n",
      "495   0.0004\n",
      "496   0.0004\n",
      "497   0.0004\n",
      "498   0.0004\n",
      "499   0.0004\n",
      "Length: 500, dtype: float64\n"
     ]
    },
    {
     "data": {
      "image/png": "[encoded data removed]",
      "text/plain": [
       "<Figure size 432x288 with 1 Axes>"
      ]
     },
     "metadata": {
      "needs_background": "light"
     },
     "output_type": "display_data"
    }
   ],
   "source": [
    "pd.options.display.float_format = '{:.4f}'.format\n",
    "print(loss_history)\n",
    "_ = loss_history.plot()"
   ]
  },
  {
   "cell_type": "code",
   "execution_count": null,
   "id": "verified-wilderness",
   "metadata": {},
   "outputs": [],
   "source": []
  }
 ],
 "metadata": {
  "kernelspec": {
   "display_name": "Python 3",
   "language": "python",
   "name": "python3"
  },
  "language_info": {
   "codemirror_mode": {
    "name": "ipython",
    "version": 3
   },
   "file_extension": ".py",
   "mimetype": "text/x-python",
   "name": "python",
   "nbconvert_exporter": "python",
   "pygments_lexer": "ipython3",
   "version": "3.9.1"
  }
 },
 "nbformat": 4,
 "nbformat_minor": 5
}
